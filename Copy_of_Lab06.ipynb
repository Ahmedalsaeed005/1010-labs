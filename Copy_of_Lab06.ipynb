{
  "cells": [
    {
      "cell_type": "markdown",
      "metadata": {
        "id": "view-in-github",
        "colab_type": "text"
      },
      "source": [
        "<a href=\"https://colab.research.google.com/github/Ahmedalsaeed005/1010-labs/blob/main/Copy_of_Lab06.ipynb\" target=\"_parent\"><img src=\"https://colab.research.google.com/assets/colab-badge.svg\" alt=\"Open In Colab\"/></a>"
      ]
    },
    {
      "cell_type": "markdown",
      "metadata": {
        "id": "1ffjBJA1dp2Y"
      },
      "source": [
        "<a href=\"https://colab.research.google.com/github/LMU-CMSI-1010/lab-notebooks-original/blob/main/Lab06.ipynb\" target=\"_parent\"><img src=\"https://colab.research.google.com/assets/colab-badge.svg\" alt=\"Open In Colab\"/></a>"
      ]
    },
    {
      "cell_type": "markdown",
      "metadata": {
        "id": "9aXfrLXg9seM"
      },
      "source": [
        "# Lab 06 Mixing Strings\n",
        "In this lab, you will practice working with strings and using loops with strings.\n",
        "\n",
        "## Warmup: Character counter\n",
        "\n",
        "In the following cell, **complete the function `count_character` that, given a string and character, returns the number of occurrences of the character in the string.** Right now, it just returns 0. We have some code to test your function and **you can add more calls to test it.**\n",
        "\n"
      ]
    },
    {
      "cell_type": "code",
      "execution_count": 3,
      "metadata": {
        "id": "Rt0kFDWS9RJU",
        "colab": {
          "base_uri": "https://localhost:8080/"
        },
        "outputId": "f2a8feea-6332-4c89-c6f7-109c1168b527"
      },
      "outputs": [
        {
          "output_type": "stream",
          "name": "stdout",
          "text": [
            "3\n",
            "4\n"
          ]
        }
      ],
      "source": [
        "# TODO: count_character is given a string s and a character c and returns the number\n",
        "# of occurrences of c in s\n",
        "def count_character(s, c):\n",
        "    counter = 0\n",
        "    # loop over the string\n",
        "    for ch in s:\n",
        "        # if characters matches with given characters\n",
        "        # increasing the counter\n",
        "        if ch == c:\n",
        "            counter += 1\n",
        "    return counter\n",
        "\n",
        "# Debugging function calls. You can add more or change\n",
        "# The following should return 3\n",
        "char_count = count_character('banana', 'a')\n",
        "print(char_count)\n",
        "\n",
        "# The following call should return 4\n",
        "char_count = count_character('mississippi', 's')\n",
        "print(char_count)\n",
        "\n",
        "# The following tests your code. Do not modify it.\n",
        "assert(count_character('banana', 'a') == 3)\n",
        "assert(count_character('mississippi', 's') == 4)\n",
        "assert(count_character('loyola', 'l') == 2)"
      ]
    },
    {
      "cell_type": "markdown",
      "metadata": {
        "id": "y2c-tRWA91fr"
      },
      "source": [
        "## Repeating Strings\n",
        "Python gives you an operator to make multiple copies of a string. However, below we want you to **complete this function to return a string `s` repeated `n` times _using a loop_ instead.** You can **test your code by running the code we have provided and creating your own function calls.**"
      ]
    },
    {
      "cell_type": "code",
      "execution_count": 11,
      "metadata": {
        "id": "NMcvm3E4-sl_",
        "colab": {
          "base_uri": "https://localhost:8080/"
        },
        "outputId": "5168b2e4-deb6-4d1e-b1a1-dcfc8fed08f6"
      },
      "outputs": [
        {
          "output_type": "stream",
          "name": "stdout",
          "text": [
            "hellohellohello\n",
            "hihihihihi\n"
          ]
        }
      ],
      "source": [
        "def repeat_string(s, n):\n",
        "    out = ''\n",
        "\n",
        "    for i in range(n):\n",
        "        out += s\n",
        "\n",
        "    return out\n",
        "\n",
        "\n",
        "print(repeat_string('hello', 3))\n",
        "print(repeat_string('hi', 5))\n",
        "\n",
        "\n",
        "assert(repeat_string('hello', 3) == 'hellohellohello')\n",
        "assert(repeat_string('hi', 5) == 'hihihihihi')"
      ]
    },
    {
      "cell_type": "markdown",
      "metadata": {
        "id": "zXC7orYI_T3E"
      },
      "source": [
        "## Mixing names\n",
        "In the following cell, you will write a program that will prompt a user for two names. The user should enter a first name and last name separated by a space.\n",
        "**You will have to figure out how to retrieve the first name and last name from the name input by the user. Then you will mix the two names up and output the new mixed names.**"
      ]
    },
    {
      "cell_type": "code",
      "execution_count": 13,
      "metadata": {
        "id": "fpq9XjRC_TJG",
        "colab": {
          "base_uri": "https://localhost:8080/"
        },
        "outputId": "4bb15cde-da22-4155-96f9-950b3b6b4f0d"
      },
      "outputs": [
        {
          "output_type": "stream",
          "name": "stdout",
          "text": [
            "Please enter a FIRST NAME followed by a LAST NAME separated by a space:Ahmad ALSAEED\n",
            "Please enter another FIRST NAME followed by a LAST NAME separated by a space:AHMAD MESHAL\n",
            "Here are the new mixed up names:\n",
            "Ahmad Alsaal\n",
            "Ahmad Mesheed\n"
          ]
        }
      ],
      "source": [
        "\n",
        "name1 = input('Please enter a FIRST NAME followed by a LAST NAME separated by a space:')\n",
        "name2 = input('Please enter another FIRST NAME followed by a LAST NAME separated by a space:')\n",
        "\n",
        "\n",
        "first_name1, last_name1 = name1.split()\n",
        "first_name2, last_name2 = name2.split()\n",
        "\n",
        "\n",
        "split_point = random.randint(1, len(first_name1) - 1)\n",
        "\n",
        "\n",
        "new_first_name1 = first_name1[:split_point] + first_name2[split_point:]\n",
        "new_last_name1 = last_name1[:split_point] + last_name2[split_point:]\n",
        "\n",
        "\n",
        "new_first_name2 = first_name2[:split_point] + first_name1[split_point:]\n",
        "new_last_name2 = last_name2[:split_point] + last_name1[split_point:]\n",
        "\n",
        "\n",
        "new_first_name1 = new_first_name1.capitalize()\n",
        "new_last_name1 = new_last_name1.capitalize()\n",
        "new_first_name2 = new_first_name2.capitalize()\n",
        "new_last_name2 = new_last_name2.capitalize()\n",
        "\n",
        "\n",
        "print('Here are the new mixed up names:')\n",
        "print(new_first_name1, new_last_name1)\n",
        "print(new_first_name2, new_last_name2)\n",
        "\n",
        "\n",
        "assert(new_first_name1 != '')\n",
        "assert(new_first_name2 != '')\n",
        "assert(new_last_name1 != '')\n",
        "assert(new_last_name2 != '')\n"
      ]
    },
    {
      "cell_type": "markdown",
      "metadata": {
        "id": "dKL0LYd-E4JB"
      },
      "source": [
        "### (Optional) Reflections\n",
        "Add a text cell below to answer the following questions:\n",
        "1. What do you feel more confident about after completing this lab?\n",
        "2. What do you feel you can use more help with after completing this lab?\n",
        "3. Do you have any constructive suggestions on how we can help you or improve this lab?"
      ]
    },
    {
      "cell_type": "markdown",
      "metadata": {
        "id": "gB1aHDpyFYey"
      },
      "source": [
        "### Save your work to GitHub\n",
        "Please save this notebook to your lab repository."
      ]
    }
  ],
  "metadata": {
    "kernelspec": {
      "display_name": "Python 3",
      "language": "python",
      "name": "python3"
    },
    "language_info": {
      "codemirror_mode": {
        "name": "ipython",
        "version": 3
      },
      "file_extension": ".py",
      "mimetype": "text/x-python",
      "name": "python",
      "nbconvert_exporter": "python",
      "pygments_lexer": "ipython3",
      "version": "3.8.5"
    },
    "colab": {
      "provenance": [],
      "include_colab_link": true
    }
  },
  "nbformat": 4,
  "nbformat_minor": 0
}