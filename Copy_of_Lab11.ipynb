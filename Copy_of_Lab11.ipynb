{
  "cells": [
    {
      "cell_type": "markdown",
      "metadata": {
        "id": "view-in-github",
        "colab_type": "text"
      },
      "source": [
        "<a href=\"https://colab.research.google.com/github/Ahmedalsaeed005/1010-labs/blob/main/Copy_of_Lab11.ipynb\" target=\"_parent\"><img src=\"https://colab.research.google.com/assets/colab-badge.svg\" alt=\"Open In Colab\"/></a>"
      ]
    },
    {
      "cell_type": "markdown",
      "metadata": {
        "id": "whhLn7gZJsmP"
      },
      "source": [
        "## <a href=\"https://colab.research.google.com/github/LMU-CMSI-1010/lab-notebooks-original/blob/main/Lab11.ipynb\" target=\"_parent\"><img src=\"https://colab.research.google.com/assets/colab-badge.svg\" alt=\"Open In Colab\"/></a>"
      ]
    },
    {
      "cell_type": "markdown",
      "metadata": {
        "id": "9aXfrLXg9seM"
      },
      "source": [
        "# Lab 11 Turtle Fractals\n",
        "In this lab you will use Turtle graphics to write recursive functions that you can see in your notebook. First, let's get to some preliminaries..."
      ]
    },
    {
      "cell_type": "markdown",
      "metadata": {
        "id": "cFmY8Nj8OVf4"
      },
      "source": [
        "## Setup\n",
        "To use turtle graphics in a notebook, first **run the following code block:**"
      ]
    },
    {
      "cell_type": "code",
      "execution_count": 1,
      "metadata": {
        "id": "2H9KiTyoNPR3",
        "colab": {
          "base_uri": "https://localhost:8080/"
        },
        "outputId": "a96b86d5-5141-4162-b70c-ea6954e13c82"
      },
      "outputs": [
        {
          "output_type": "stream",
          "name": "stdout",
          "text": [
            "Collecting ColabTurtle\n",
            "  Downloading ColabTurtle-2.1.0.tar.gz (6.8 kB)\n",
            "  Preparing metadata (setup.py) ... \u001b[?25l\u001b[?25hdone\n",
            "Building wheels for collected packages: ColabTurtle\n",
            "  Building wheel for ColabTurtle (setup.py) ... \u001b[?25l\u001b[?25hdone\n",
            "  Created wheel for ColabTurtle: filename=ColabTurtle-2.1.0-py3-none-any.whl size=7641 sha256=33cd01bea4aa4deaa20d046023fdffd999c65d967081fdc9b0c5330df9380215\n",
            "  Stored in directory: /root/.cache/pip/wheels/5b/86/e8/54f5c8c853606e3a3060bb2e60363cbed632374a12e0f33ffc\n",
            "Successfully built ColabTurtle\n",
            "Installing collected packages: ColabTurtle\n",
            "Successfully installed ColabTurtle-2.1.0\n"
          ]
        }
      ],
      "source": [
        "!pip3 install ColabTurtle"
      ]
    },
    {
      "cell_type": "markdown",
      "metadata": {
        "id": "5FlXUAuzUoAp"
      },
      "source": [
        "Once that succeeds, **run this one next** to import everything in the module:"
      ]
    },
    {
      "cell_type": "code",
      "execution_count": 2,
      "metadata": {
        "id": "0TWU2wyZNnIK"
      },
      "outputs": [],
      "source": [
        "from ColabTurtle.Turtle import *"
      ]
    },
    {
      "cell_type": "markdown",
      "metadata": {
        "id": "ozCb08bdUttR"
      },
      "source": [
        "Once both of these have executed successfully, you can have a turtle in a Colab Jupyter notebook! Additional documentation can be found here: https://github.com/tolgaatam/ColabTurtle"
      ]
    },
    {
      "cell_type": "markdown",
      "metadata": {
        "id": "vrccqrkTOYZ3"
      },
      "source": [
        "## Turtle Recap\n",
        "All turtle-in-notebook programs must start with `initializeTurtle()` to set things up.\n",
        "\n",
        "Below is a simple program that makes it take 100 steps forward then turns it 90 degrees counterclockwise. **Write a for loop to make the turtle draw a square.**"
      ]
    },
    {
      "cell_type": "code",
      "execution_count": 3,
      "metadata": {
        "id": "E3sTGBcCNtU7",
        "colab": {
          "base_uri": "https://localhost:8080/",
          "height": 521
        },
        "outputId": "3569efea-d0eb-4586-9343-5b09c3444467"
      },
      "outputs": [
        {
          "output_type": "display_data",
          "data": {
            "text/plain": [
              "<IPython.core.display.HTML object>"
            ],
            "text/html": [
              "\n",
              "      <svg width=\"800\" height=\"500\">\n",
              "        <rect width=\"100%\" height=\"100%\" fill=\"black\"/>\n",
              "        <line x1=\"400\" y1=\"250\" x2=\"400.0\" y2=\"249.0\" stroke-linecap=\"round\" style=\"stroke:white;stroke-width:4\"/><line x1=\"400.0\" y1=\"249.0\" x2=\"399.983\" y2=\"248.0\" stroke-linecap=\"round\" style=\"stroke:white;stroke-width:4\"/><line x1=\"399.983\" y1=\"248.0\" x2=\"399.948\" y2=\"247.001\" stroke-linecap=\"round\" style=\"stroke:white;stroke-width:4\"/><line x1=\"399.948\" y1=\"247.001\" x2=\"399.896\" y2=\"246.002\" stroke-linecap=\"round\" style=\"stroke:white;stroke-width:4\"/><line x1=\"399.896\" y1=\"246.002\" x2=\"399.826\" y2=\"245.004\" stroke-linecap=\"round\" style=\"stroke:white;stroke-width:4\"/><line x1=\"399.826\" y1=\"245.004\" x2=\"399.739\" y2=\"244.008\" stroke-linecap=\"round\" style=\"stroke:white;stroke-width:4\"/><line x1=\"399.739\" y1=\"244.008\" x2=\"399.634\" y2=\"243.013\" stroke-linecap=\"round\" style=\"stroke:white;stroke-width:4\"/><line x1=\"399.634\" y1=\"243.013\" x2=\"399.512\" y2=\"242.02\" stroke-linecap=\"round\" style=\"stroke:white;stroke-width:4\"/><line x1=\"399.512\" y1=\"242.02\" x2=\"399.373\" y2=\"241.03\" stroke-linecap=\"round\" style=\"stroke:white;stroke-width:4\"/><line x1=\"399.373\" y1=\"241.03\" x2=\"399.217\" y2=\"240.042\" stroke-linecap=\"round\" style=\"stroke:white;stroke-width:4\"/><line x1=\"399.217\" y1=\"240.042\" x2=\"399.043\" y2=\"239.057\" stroke-linecap=\"round\" style=\"stroke:white;stroke-width:4\"/><line x1=\"399.043\" y1=\"239.057\" x2=\"398.852\" y2=\"238.075\" stroke-linecap=\"round\" style=\"stroke:white;stroke-width:4\"/><line x1=\"398.852\" y1=\"238.075\" x2=\"398.644\" y2=\"237.097\" stroke-linecap=\"round\" style=\"stroke:white;stroke-width:4\"/><line x1=\"398.644\" y1=\"237.097\" x2=\"398.419\" y2=\"236.123\" stroke-linecap=\"round\" style=\"stroke:white;stroke-width:4\"/><line x1=\"398.419\" y1=\"236.123\" x2=\"398.177\" y2=\"235.153\" stroke-linecap=\"round\" style=\"stroke:white;stroke-width:4\"/><line x1=\"398.177\" y1=\"235.153\" x2=\"397.918\" y2=\"234.187\" stroke-linecap=\"round\" style=\"stroke:white;stroke-width:4\"/><line x1=\"397.918\" y1=\"234.187\" x2=\"397.642\" y2=\"233.226\" stroke-linecap=\"round\" style=\"stroke:white;stroke-width:4\"/><line x1=\"397.642\" y1=\"233.226\" x2=\"397.35\" y2=\"232.27\" stroke-linecap=\"round\" style=\"stroke:white;stroke-width:4\"/><line x1=\"397.35\" y1=\"232.27\" x2=\"397.041\" y2=\"231.319\" stroke-linecap=\"round\" style=\"stroke:white;stroke-width:4\"/><line x1=\"397.041\" y1=\"231.319\" x2=\"396.715\" y2=\"230.373\" stroke-linecap=\"round\" style=\"stroke:white;stroke-width:4\"/><line x1=\"396.715\" y1=\"230.373\" x2=\"396.373\" y2=\"229.433\" stroke-linecap=\"round\" style=\"stroke:white;stroke-width:4\"/><line x1=\"396.373\" y1=\"229.433\" x2=\"396.015\" y2=\"228.499\" stroke-linecap=\"round\" style=\"stroke:white;stroke-width:4\"/><line x1=\"396.015\" y1=\"228.499\" x2=\"395.64\" y2=\"227.572\" stroke-linecap=\"round\" style=\"stroke:white;stroke-width:4\"/><line x1=\"395.64\" y1=\"227.572\" x2=\"395.249\" y2=\"226.651\" stroke-linecap=\"round\" style=\"stroke:white;stroke-width:4\"/><line x1=\"395.249\" y1=\"226.651\" x2=\"394.842\" y2=\"225.737\" stroke-linecap=\"round\" style=\"stroke:white;stroke-width:4\"/><line x1=\"394.842\" y1=\"225.737\" x2=\"394.419\" y2=\"224.831\" stroke-linecap=\"round\" style=\"stroke:white;stroke-width:4\"/><line x1=\"394.419\" y1=\"224.831\" x2=\"393.981\" y2=\"223.932\" stroke-linecap=\"round\" style=\"stroke:white;stroke-width:4\"/><line x1=\"393.981\" y1=\"223.932\" x2=\"393.527\" y2=\"223.041\" stroke-linecap=\"round\" style=\"stroke:white;stroke-width:4\"/><line x1=\"393.527\" y1=\"223.041\" x2=\"393.058\" y2=\"222.158\" stroke-linecap=\"round\" style=\"stroke:white;stroke-width:4\"/><line x1=\"393.058\" y1=\"222.158\" x2=\"392.573\" y2=\"221.283\" stroke-linecap=\"round\" style=\"stroke:white;stroke-width:4\"/><line x1=\"392.573\" y1=\"221.283\" x2=\"392.073\" y2=\"220.417\" stroke-linecap=\"round\" style=\"stroke:white;stroke-width:4\"/><line x1=\"392.073\" y1=\"220.417\" x2=\"391.558\" y2=\"219.56\" stroke-linecap=\"round\" style=\"stroke:white;stroke-width:4\"/><line x1=\"391.558\" y1=\"219.56\" x2=\"391.028\" y2=\"218.712\" stroke-linecap=\"round\" style=\"stroke:white;stroke-width:4\"/><line x1=\"391.028\" y1=\"218.712\" x2=\"390.483\" y2=\"217.873\" stroke-linecap=\"round\" style=\"stroke:white;stroke-width:4\"/><line x1=\"390.483\" y1=\"217.873\" x2=\"389.924\" y2=\"217.044\" stroke-linecap=\"round\" style=\"stroke:white;stroke-width:4\"/><line x1=\"389.924\" y1=\"217.044\" x2=\"389.35\" y2=\"216.225\" stroke-linecap=\"round\" style=\"stroke:white;stroke-width:4\"/><line x1=\"389.35\" y1=\"216.225\" x2=\"388.762\" y2=\"215.416\" stroke-linecap=\"round\" style=\"stroke:white;stroke-width:4\"/><line x1=\"388.762\" y1=\"215.416\" x2=\"388.16\" y2=\"214.617\" stroke-linecap=\"round\" style=\"stroke:white;stroke-width:4\"/><line x1=\"388.16\" y1=\"214.617\" x2=\"387.544\" y2=\"213.829\" stroke-linecap=\"round\" style=\"stroke:white;stroke-width:4\"/><line x1=\"387.544\" y1=\"213.829\" x2=\"386.915\" y2=\"213.052\" stroke-linecap=\"round\" style=\"stroke:white;stroke-width:4\"/><line x1=\"386.915\" y1=\"213.052\" x2=\"386.272\" y2=\"212.286\" stroke-linecap=\"round\" style=\"stroke:white;stroke-width:4\"/><line x1=\"386.272\" y1=\"212.286\" x2=\"385.616\" y2=\"211.531\" stroke-linecap=\"round\" style=\"stroke:white;stroke-width:4\"/><line x1=\"385.616\" y1=\"211.531\" x2=\"384.947\" y2=\"210.788\" stroke-linecap=\"round\" style=\"stroke:white;stroke-width:4\"/><line x1=\"384.947\" y1=\"210.788\" x2=\"384.265\" y2=\"210.057\" stroke-linecap=\"round\" style=\"stroke:white;stroke-width:4\"/><line x1=\"384.265\" y1=\"210.057\" x2=\"383.57\" y2=\"209.338\" stroke-linecap=\"round\" style=\"stroke:white;stroke-width:4\"/><line x1=\"383.57\" y1=\"209.338\" x2=\"382.863\" y2=\"208.631\" stroke-linecap=\"round\" style=\"stroke:white;stroke-width:4\"/><line x1=\"382.863\" y1=\"208.631\" x2=\"382.144\" y2=\"207.936\" stroke-linecap=\"round\" style=\"stroke:white;stroke-width:4\"/><line x1=\"382.144\" y1=\"207.936\" x2=\"381.413\" y2=\"207.254\" stroke-linecap=\"round\" style=\"stroke:white;stroke-width:4\"/><line x1=\"381.413\" y1=\"207.254\" x2=\"380.67\" y2=\"206.585\" stroke-linecap=\"round\" style=\"stroke:white;stroke-width:4\"/><line x1=\"380.67\" y1=\"206.585\" x2=\"379.915\" y2=\"205.929\" stroke-linecap=\"round\" style=\"stroke:white;stroke-width:4\"/><line x1=\"379.915\" y1=\"205.929\" x2=\"379.149\" y2=\"205.286\" stroke-linecap=\"round\" style=\"stroke:white;stroke-width:4\"/><line x1=\"379.149\" y1=\"205.286\" x2=\"378.372\" y2=\"204.657\" stroke-linecap=\"round\" style=\"stroke:white;stroke-width:4\"/><line x1=\"378.372\" y1=\"204.657\" x2=\"377.584\" y2=\"204.041\" stroke-linecap=\"round\" style=\"stroke:white;stroke-width:4\"/><line x1=\"377.584\" y1=\"204.041\" x2=\"376.785\" y2=\"203.439\" stroke-linecap=\"round\" style=\"stroke:white;stroke-width:4\"/><line x1=\"376.785\" y1=\"203.439\" x2=\"375.976\" y2=\"202.851\" stroke-linecap=\"round\" style=\"stroke:white;stroke-width:4\"/><line x1=\"375.976\" y1=\"202.851\" x2=\"375.157\" y2=\"202.277\" stroke-linecap=\"round\" style=\"stroke:white;stroke-width:4\"/><line x1=\"375.157\" y1=\"202.277\" x2=\"374.328\" y2=\"201.718\" stroke-linecap=\"round\" style=\"stroke:white;stroke-width:4\"/><line x1=\"374.328\" y1=\"201.718\" x2=\"373.489\" y2=\"201.173\" stroke-linecap=\"round\" style=\"stroke:white;stroke-width:4\"/><line x1=\"373.489\" y1=\"201.173\" x2=\"372.641\" y2=\"200.643\" stroke-linecap=\"round\" style=\"stroke:white;stroke-width:4\"/><line x1=\"372.641\" y1=\"200.643\" x2=\"371.784\" y2=\"200.128\" stroke-linecap=\"round\" style=\"stroke:white;stroke-width:4\"/><line x1=\"371.784\" y1=\"200.128\" x2=\"370.918\" y2=\"199.628\" stroke-linecap=\"round\" style=\"stroke:white;stroke-width:4\"/><line x1=\"370.918\" y1=\"199.628\" x2=\"370.043\" y2=\"199.143\" stroke-linecap=\"round\" style=\"stroke:white;stroke-width:4\"/><line x1=\"370.043\" y1=\"199.143\" x2=\"369.16\" y2=\"198.674\" stroke-linecap=\"round\" style=\"stroke:white;stroke-width:4\"/><line x1=\"369.16\" y1=\"198.674\" x2=\"368.269\" y2=\"198.22\" stroke-linecap=\"round\" style=\"stroke:white;stroke-width:4\"/><line x1=\"368.269\" y1=\"198.22\" x2=\"367.37\" y2=\"197.782\" stroke-linecap=\"round\" style=\"stroke:white;stroke-width:4\"/><line x1=\"367.37\" y1=\"197.782\" x2=\"366.464\" y2=\"197.359\" stroke-linecap=\"round\" style=\"stroke:white;stroke-width:4\"/><line x1=\"366.464\" y1=\"197.359\" x2=\"365.55\" y2=\"196.952\" stroke-linecap=\"round\" style=\"stroke:white;stroke-width:4\"/><line x1=\"365.55\" y1=\"196.952\" x2=\"364.629\" y2=\"196.561\" stroke-linecap=\"round\" style=\"stroke:white;stroke-width:4\"/><line x1=\"364.629\" y1=\"196.561\" x2=\"363.702\" y2=\"196.186\" stroke-linecap=\"round\" style=\"stroke:white;stroke-width:4\"/><line x1=\"363.702\" y1=\"196.186\" x2=\"362.768\" y2=\"195.828\" stroke-linecap=\"round\" style=\"stroke:white;stroke-width:4\"/><line x1=\"362.768\" y1=\"195.828\" x2=\"361.828\" y2=\"195.486\" stroke-linecap=\"round\" style=\"stroke:white;stroke-width:4\"/><line x1=\"361.828\" y1=\"195.486\" x2=\"360.882\" y2=\"195.16\" stroke-linecap=\"round\" style=\"stroke:white;stroke-width:4\"/><line x1=\"360.882\" y1=\"195.16\" x2=\"359.931\" y2=\"194.851\" stroke-linecap=\"round\" style=\"stroke:white;stroke-width:4\"/><line x1=\"359.931\" y1=\"194.851\" x2=\"358.975\" y2=\"194.559\" stroke-linecap=\"round\" style=\"stroke:white;stroke-width:4\"/><line x1=\"358.975\" y1=\"194.559\" x2=\"358.014\" y2=\"194.283\" stroke-linecap=\"round\" style=\"stroke:white;stroke-width:4\"/><line x1=\"358.014\" y1=\"194.283\" x2=\"357.048\" y2=\"194.024\" stroke-linecap=\"round\" style=\"stroke:white;stroke-width:4\"/><line x1=\"357.048\" y1=\"194.024\" x2=\"356.078\" y2=\"193.782\" stroke-linecap=\"round\" style=\"stroke:white;stroke-width:4\"/><line x1=\"356.078\" y1=\"193.782\" x2=\"355.104\" y2=\"193.557\" stroke-linecap=\"round\" style=\"stroke:white;stroke-width:4\"/><line x1=\"355.104\" y1=\"193.557\" x2=\"354.126\" y2=\"193.349\" stroke-linecap=\"round\" style=\"stroke:white;stroke-width:4\"/><line x1=\"354.126\" y1=\"193.349\" x2=\"353.144\" y2=\"193.158\" stroke-linecap=\"round\" style=\"stroke:white;stroke-width:4\"/><line x1=\"353.144\" y1=\"193.158\" x2=\"352.159\" y2=\"192.984\" stroke-linecap=\"round\" style=\"stroke:white;stroke-width:4\"/><line x1=\"352.159\" y1=\"192.984\" x2=\"351.171\" y2=\"192.828\" stroke-linecap=\"round\" style=\"stroke:white;stroke-width:4\"/><line x1=\"351.171\" y1=\"192.828\" x2=\"350.181\" y2=\"192.689\" stroke-linecap=\"round\" style=\"stroke:white;stroke-width:4\"/><line x1=\"350.181\" y1=\"192.689\" x2=\"349.188\" y2=\"192.567\" stroke-linecap=\"round\" style=\"stroke:white;stroke-width:4\"/><line x1=\"349.188\" y1=\"192.567\" x2=\"348.193\" y2=\"192.462\" stroke-linecap=\"round\" style=\"stroke:white;stroke-width:4\"/><line x1=\"348.193\" y1=\"192.462\" x2=\"347.197\" y2=\"192.375\" stroke-linecap=\"round\" style=\"stroke:white;stroke-width:4\"/><line x1=\"347.197\" y1=\"192.375\" x2=\"346.199\" y2=\"192.305\" stroke-linecap=\"round\" style=\"stroke:white;stroke-width:4\"/><line x1=\"346.199\" y1=\"192.305\" x2=\"345.2\" y2=\"192.253\" stroke-linecap=\"round\" style=\"stroke:white;stroke-width:4\"/><line x1=\"345.2\" y1=\"192.253\" x2=\"344.201\" y2=\"192.218\" stroke-linecap=\"round\" style=\"stroke:white;stroke-width:4\"/><line x1=\"344.201\" y1=\"192.218\" x2=\"343.201\" y2=\"192.201\" stroke-linecap=\"round\" style=\"stroke:white;stroke-width:4\"/><line x1=\"343.201\" y1=\"192.201\" x2=\"342.201\" y2=\"192.201\" stroke-linecap=\"round\" style=\"stroke:white;stroke-width:4\"/><line x1=\"342.201\" y1=\"192.201\" x2=\"341.201\" y2=\"192.218\" stroke-linecap=\"round\" style=\"stroke:white;stroke-width:4\"/><line x1=\"341.201\" y1=\"192.218\" x2=\"340.202\" y2=\"192.253\" stroke-linecap=\"round\" style=\"stroke:white;stroke-width:4\"/><line x1=\"340.202\" y1=\"192.253\" x2=\"339.203\" y2=\"192.305\" stroke-linecap=\"round\" style=\"stroke:white;stroke-width:4\"/><line x1=\"339.203\" y1=\"192.305\" x2=\"338.205\" y2=\"192.375\" stroke-linecap=\"round\" style=\"stroke:white;stroke-width:4\"/><line x1=\"338.205\" y1=\"192.375\" x2=\"337.209\" y2=\"192.462\" stroke-linecap=\"round\" style=\"stroke:white;stroke-width:4\"/><line x1=\"337.209\" y1=\"192.462\" x2=\"336.214\" y2=\"192.567\" stroke-linecap=\"round\" style=\"stroke:white;stroke-width:4\"/><line x1=\"336.214\" y1=\"192.567\" x2=\"335.221\" y2=\"192.689\" stroke-linecap=\"round\" style=\"stroke:white;stroke-width:4\"/><line x1=\"335.221\" y1=\"192.689\" x2=\"334.231\" y2=\"192.828\" stroke-linecap=\"round\" style=\"stroke:white;stroke-width:4\"/><line x1=\"334.231\" y1=\"192.828\" x2=\"333.243\" y2=\"192.984\" stroke-linecap=\"round\" style=\"stroke:white;stroke-width:4\"/><line x1=\"333.243\" y1=\"192.984\" x2=\"332.258\" y2=\"193.158\" stroke-linecap=\"round\" style=\"stroke:white;stroke-width:4\"/><line x1=\"332.258\" y1=\"193.158\" x2=\"331.276\" y2=\"193.349\" stroke-linecap=\"round\" style=\"stroke:white;stroke-width:4\"/><line x1=\"331.276\" y1=\"193.349\" x2=\"330.298\" y2=\"193.557\" stroke-linecap=\"round\" style=\"stroke:white;stroke-width:4\"/><line x1=\"330.298\" y1=\"193.557\" x2=\"329.324\" y2=\"193.782\" stroke-linecap=\"round\" style=\"stroke:white;stroke-width:4\"/><line x1=\"329.324\" y1=\"193.782\" x2=\"328.354\" y2=\"194.024\" stroke-linecap=\"round\" style=\"stroke:white;stroke-width:4\"/><line x1=\"328.354\" y1=\"194.024\" x2=\"327.388\" y2=\"194.283\" stroke-linecap=\"round\" style=\"stroke:white;stroke-width:4\"/><line x1=\"327.388\" y1=\"194.283\" x2=\"326.427\" y2=\"194.559\" stroke-linecap=\"round\" style=\"stroke:white;stroke-width:4\"/><line x1=\"326.427\" y1=\"194.559\" x2=\"325.471\" y2=\"194.851\" stroke-linecap=\"round\" style=\"stroke:white;stroke-width:4\"/><line x1=\"325.471\" y1=\"194.851\" x2=\"324.52\" y2=\"195.16\" stroke-linecap=\"round\" style=\"stroke:white;stroke-width:4\"/><line x1=\"324.52\" y1=\"195.16\" x2=\"323.574\" y2=\"195.486\" stroke-linecap=\"round\" style=\"stroke:white;stroke-width:4\"/><line x1=\"323.574\" y1=\"195.486\" x2=\"322.634\" y2=\"195.828\" stroke-linecap=\"round\" style=\"stroke:white;stroke-width:4\"/><line x1=\"322.634\" y1=\"195.828\" x2=\"321.7\" y2=\"196.186\" stroke-linecap=\"round\" style=\"stroke:white;stroke-width:4\"/><line x1=\"321.7\" y1=\"196.186\" x2=\"320.773\" y2=\"196.561\" stroke-linecap=\"round\" style=\"stroke:white;stroke-width:4\"/><line x1=\"320.773\" y1=\"196.561\" x2=\"319.852\" y2=\"196.952\" stroke-linecap=\"round\" style=\"stroke:white;stroke-width:4\"/><line x1=\"319.852\" y1=\"196.952\" x2=\"318.938\" y2=\"197.359\" stroke-linecap=\"round\" style=\"stroke:white;stroke-width:4\"/><line x1=\"318.938\" y1=\"197.359\" x2=\"318.032\" y2=\"197.782\" stroke-linecap=\"round\" style=\"stroke:white;stroke-width:4\"/><line x1=\"318.032\" y1=\"197.782\" x2=\"317.133\" y2=\"198.22\" stroke-linecap=\"round\" style=\"stroke:white;stroke-width:4\"/><line x1=\"317.133\" y1=\"198.22\" x2=\"316.242\" y2=\"198.674\" stroke-linecap=\"round\" style=\"stroke:white;stroke-width:4\"/><line x1=\"316.242\" y1=\"198.674\" x2=\"315.359\" y2=\"199.143\" stroke-linecap=\"round\" style=\"stroke:white;stroke-width:4\"/><line x1=\"315.359\" y1=\"199.143\" x2=\"314.484\" y2=\"199.628\" stroke-linecap=\"round\" style=\"stroke:white;stroke-width:4\"/><line x1=\"314.484\" y1=\"199.628\" x2=\"313.618\" y2=\"200.128\" stroke-linecap=\"round\" style=\"stroke:white;stroke-width:4\"/><line x1=\"313.618\" y1=\"200.128\" x2=\"312.761\" y2=\"200.643\" stroke-linecap=\"round\" style=\"stroke:white;stroke-width:4\"/><line x1=\"312.761\" y1=\"200.643\" x2=\"311.913\" y2=\"201.173\" stroke-linecap=\"round\" style=\"stroke:white;stroke-width:4\"/><line x1=\"311.913\" y1=\"201.173\" x2=\"311.074\" y2=\"201.718\" stroke-linecap=\"round\" style=\"stroke:white;stroke-width:4\"/><line x1=\"311.074\" y1=\"201.718\" x2=\"310.245\" y2=\"202.277\" stroke-linecap=\"round\" style=\"stroke:white;stroke-width:4\"/><line x1=\"310.245\" y1=\"202.277\" x2=\"309.426\" y2=\"202.851\" stroke-linecap=\"round\" style=\"stroke:white;stroke-width:4\"/><line x1=\"309.426\" y1=\"202.851\" x2=\"308.617\" y2=\"203.439\" stroke-linecap=\"round\" style=\"stroke:white;stroke-width:4\"/><line x1=\"308.617\" y1=\"203.439\" x2=\"307.818\" y2=\"204.041\" stroke-linecap=\"round\" style=\"stroke:white;stroke-width:4\"/><line x1=\"307.818\" y1=\"204.041\" x2=\"307.03\" y2=\"204.657\" stroke-linecap=\"round\" style=\"stroke:white;stroke-width:4\"/><line x1=\"307.03\" y1=\"204.657\" x2=\"306.253\" y2=\"205.286\" stroke-linecap=\"round\" style=\"stroke:white;stroke-width:4\"/><line x1=\"306.253\" y1=\"205.286\" x2=\"305.487\" y2=\"205.929\" stroke-linecap=\"round\" style=\"stroke:white;stroke-width:4\"/><line x1=\"305.487\" y1=\"205.929\" x2=\"304.732\" y2=\"206.585\" stroke-linecap=\"round\" style=\"stroke:white;stroke-width:4\"/><line x1=\"304.732\" y1=\"206.585\" x2=\"303.989\" y2=\"207.254\" stroke-linecap=\"round\" style=\"stroke:white;stroke-width:4\"/><line x1=\"303.989\" y1=\"207.254\" x2=\"303.258\" y2=\"207.936\" stroke-linecap=\"round\" style=\"stroke:white;stroke-width:4\"/><line x1=\"303.258\" y1=\"207.936\" x2=\"302.539\" y2=\"208.631\" stroke-linecap=\"round\" style=\"stroke:white;stroke-width:4\"/><line x1=\"302.539\" y1=\"208.631\" x2=\"301.832\" y2=\"209.338\" stroke-linecap=\"round\" style=\"stroke:white;stroke-width:4\"/><line x1=\"301.832\" y1=\"209.338\" x2=\"301.137\" y2=\"210.057\" stroke-linecap=\"round\" style=\"stroke:white;stroke-width:4\"/><line x1=\"301.137\" y1=\"210.057\" x2=\"300.455\" y2=\"210.788\" stroke-linecap=\"round\" style=\"stroke:white;stroke-width:4\"/><line x1=\"300.455\" y1=\"210.788\" x2=\"299.786\" y2=\"211.531\" stroke-linecap=\"round\" style=\"stroke:white;stroke-width:4\"/><line x1=\"299.786\" y1=\"211.531\" x2=\"299.13\" y2=\"212.286\" stroke-linecap=\"round\" style=\"stroke:white;stroke-width:4\"/><line x1=\"299.13\" y1=\"212.286\" x2=\"298.487\" y2=\"213.052\" stroke-linecap=\"round\" style=\"stroke:white;stroke-width:4\"/><line x1=\"298.487\" y1=\"213.052\" x2=\"297.858\" y2=\"213.829\" stroke-linecap=\"round\" style=\"stroke:white;stroke-width:4\"/><line x1=\"297.858\" y1=\"213.829\" x2=\"297.242\" y2=\"214.617\" stroke-linecap=\"round\" style=\"stroke:white;stroke-width:4\"/><line x1=\"297.242\" y1=\"214.617\" x2=\"296.64\" y2=\"215.416\" stroke-linecap=\"round\" style=\"stroke:white;stroke-width:4\"/><line x1=\"296.64\" y1=\"215.416\" x2=\"296.052\" y2=\"216.225\" stroke-linecap=\"round\" style=\"stroke:white;stroke-width:4\"/><line x1=\"296.052\" y1=\"216.225\" x2=\"295.478\" y2=\"217.044\" stroke-linecap=\"round\" style=\"stroke:white;stroke-width:4\"/><line x1=\"295.478\" y1=\"217.044\" x2=\"294.919\" y2=\"217.873\" stroke-linecap=\"round\" style=\"stroke:white;stroke-width:4\"/><line x1=\"294.919\" y1=\"217.873\" x2=\"294.374\" y2=\"218.712\" stroke-linecap=\"round\" style=\"stroke:white;stroke-width:4\"/><line x1=\"294.374\" y1=\"218.712\" x2=\"293.844\" y2=\"219.56\" stroke-linecap=\"round\" style=\"stroke:white;stroke-width:4\"/><line x1=\"293.844\" y1=\"219.56\" x2=\"293.329\" y2=\"220.417\" stroke-linecap=\"round\" style=\"stroke:white;stroke-width:4\"/><line x1=\"293.329\" y1=\"220.417\" x2=\"292.829\" y2=\"221.283\" stroke-linecap=\"round\" style=\"stroke:white;stroke-width:4\"/><line x1=\"292.829\" y1=\"221.283\" x2=\"292.344\" y2=\"222.158\" stroke-linecap=\"round\" style=\"stroke:white;stroke-width:4\"/><line x1=\"292.344\" y1=\"222.158\" x2=\"291.875\" y2=\"223.041\" stroke-linecap=\"round\" style=\"stroke:white;stroke-width:4\"/><line x1=\"291.875\" y1=\"223.041\" x2=\"291.421\" y2=\"223.932\" stroke-linecap=\"round\" style=\"stroke:white;stroke-width:4\"/><line x1=\"291.421\" y1=\"223.932\" x2=\"290.983\" y2=\"224.831\" stroke-linecap=\"round\" style=\"stroke:white;stroke-width:4\"/><line x1=\"290.983\" y1=\"224.831\" x2=\"290.56\" y2=\"225.737\" stroke-linecap=\"round\" style=\"stroke:white;stroke-width:4\"/><line x1=\"290.56\" y1=\"225.737\" x2=\"290.153\" y2=\"226.651\" stroke-linecap=\"round\" style=\"stroke:white;stroke-width:4\"/><line x1=\"290.153\" y1=\"226.651\" x2=\"289.762\" y2=\"227.572\" stroke-linecap=\"round\" style=\"stroke:white;stroke-width:4\"/><line x1=\"289.762\" y1=\"227.572\" x2=\"289.387\" y2=\"228.499\" stroke-linecap=\"round\" style=\"stroke:white;stroke-width:4\"/><line x1=\"289.387\" y1=\"228.499\" x2=\"289.029\" y2=\"229.433\" stroke-linecap=\"round\" style=\"stroke:white;stroke-width:4\"/><line x1=\"289.029\" y1=\"229.433\" x2=\"288.687\" y2=\"230.373\" stroke-linecap=\"round\" style=\"stroke:white;stroke-width:4\"/><line x1=\"288.687\" y1=\"230.373\" x2=\"288.361\" y2=\"231.319\" stroke-linecap=\"round\" style=\"stroke:white;stroke-width:4\"/><line x1=\"288.361\" y1=\"231.319\" x2=\"288.052\" y2=\"232.27\" stroke-linecap=\"round\" style=\"stroke:white;stroke-width:4\"/><line x1=\"288.052\" y1=\"232.27\" x2=\"287.76\" y2=\"233.226\" stroke-linecap=\"round\" style=\"stroke:white;stroke-width:4\"/><line x1=\"287.76\" y1=\"233.226\" x2=\"287.484\" y2=\"234.187\" stroke-linecap=\"round\" style=\"stroke:white;stroke-width:4\"/><line x1=\"287.484\" y1=\"234.187\" x2=\"287.225\" y2=\"235.153\" stroke-linecap=\"round\" style=\"stroke:white;stroke-width:4\"/><line x1=\"287.225\" y1=\"235.153\" x2=\"286.983\" y2=\"236.123\" stroke-linecap=\"round\" style=\"stroke:white;stroke-width:4\"/><line x1=\"286.983\" y1=\"236.123\" x2=\"286.758\" y2=\"237.097\" stroke-linecap=\"round\" style=\"stroke:white;stroke-width:4\"/><line x1=\"286.758\" y1=\"237.097\" x2=\"286.55\" y2=\"238.075\" stroke-linecap=\"round\" style=\"stroke:white;stroke-width:4\"/><line x1=\"286.55\" y1=\"238.075\" x2=\"286.359\" y2=\"239.057\" stroke-linecap=\"round\" style=\"stroke:white;stroke-width:4\"/><line x1=\"286.359\" y1=\"239.057\" x2=\"286.185\" y2=\"240.042\" stroke-linecap=\"round\" style=\"stroke:white;stroke-width:4\"/><line x1=\"286.185\" y1=\"240.042\" x2=\"286.029\" y2=\"241.03\" stroke-linecap=\"round\" style=\"stroke:white;stroke-width:4\"/><line x1=\"286.029\" y1=\"241.03\" x2=\"285.89\" y2=\"242.02\" stroke-linecap=\"round\" style=\"stroke:white;stroke-width:4\"/><line x1=\"285.89\" y1=\"242.02\" x2=\"285.768\" y2=\"243.013\" stroke-linecap=\"round\" style=\"stroke:white;stroke-width:4\"/><line x1=\"285.768\" y1=\"243.013\" x2=\"285.663\" y2=\"244.008\" stroke-linecap=\"round\" style=\"stroke:white;stroke-width:4\"/><line x1=\"285.663\" y1=\"244.008\" x2=\"285.576\" y2=\"245.004\" stroke-linecap=\"round\" style=\"stroke:white;stroke-width:4\"/><line x1=\"285.576\" y1=\"245.004\" x2=\"285.506\" y2=\"246.002\" stroke-linecap=\"round\" style=\"stroke:white;stroke-width:4\"/><line x1=\"285.506\" y1=\"246.002\" x2=\"285.454\" y2=\"247.001\" stroke-linecap=\"round\" style=\"stroke:white;stroke-width:4\"/><line x1=\"285.454\" y1=\"247.001\" x2=\"285.419\" y2=\"248.0\" stroke-linecap=\"round\" style=\"stroke:white;stroke-width:4\"/><line x1=\"285.419\" y1=\"248.0\" x2=\"285.402\" y2=\"249.0\" stroke-linecap=\"round\" style=\"stroke:white;stroke-width:4\"/><line x1=\"285.402\" y1=\"249.0\" x2=\"285.402\" y2=\"250.0\" stroke-linecap=\"round\" style=\"stroke:white;stroke-width:4\"/><line x1=\"285.402\" y1=\"250.0\" x2=\"285.419\" y2=\"251.0\" stroke-linecap=\"round\" style=\"stroke:white;stroke-width:4\"/><line x1=\"285.419\" y1=\"251.0\" x2=\"285.454\" y2=\"251.999\" stroke-linecap=\"round\" style=\"stroke:white;stroke-width:4\"/><line x1=\"285.454\" y1=\"251.999\" x2=\"285.506\" y2=\"252.998\" stroke-linecap=\"round\" style=\"stroke:white;stroke-width:4\"/><line x1=\"285.506\" y1=\"252.998\" x2=\"285.576\" y2=\"253.996\" stroke-linecap=\"round\" style=\"stroke:white;stroke-width:4\"/><line x1=\"285.576\" y1=\"253.996\" x2=\"285.663\" y2=\"254.992\" stroke-linecap=\"round\" style=\"stroke:white;stroke-width:4\"/><line x1=\"285.663\" y1=\"254.992\" x2=\"285.768\" y2=\"255.987\" stroke-linecap=\"round\" style=\"stroke:white;stroke-width:4\"/><line x1=\"285.768\" y1=\"255.987\" x2=\"285.89\" y2=\"256.98\" stroke-linecap=\"round\" style=\"stroke:white;stroke-width:4\"/><line x1=\"285.89\" y1=\"256.98\" x2=\"286.029\" y2=\"257.97\" stroke-linecap=\"round\" style=\"stroke:white;stroke-width:4\"/><line x1=\"286.029\" y1=\"257.97\" x2=\"286.185\" y2=\"258.958\" stroke-linecap=\"round\" style=\"stroke:white;stroke-width:4\"/><line x1=\"286.185\" y1=\"258.958\" x2=\"286.359\" y2=\"259.943\" stroke-linecap=\"round\" style=\"stroke:white;stroke-width:4\"/><line x1=\"286.359\" y1=\"259.943\" x2=\"286.55\" y2=\"260.925\" stroke-linecap=\"round\" style=\"stroke:white;stroke-width:4\"/><line x1=\"286.55\" y1=\"260.925\" x2=\"286.758\" y2=\"261.903\" stroke-linecap=\"round\" style=\"stroke:white;stroke-width:4\"/><line x1=\"286.758\" y1=\"261.903\" x2=\"286.983\" y2=\"262.877\" stroke-linecap=\"round\" style=\"stroke:white;stroke-width:4\"/><line x1=\"286.983\" y1=\"262.877\" x2=\"287.225\" y2=\"263.847\" stroke-linecap=\"round\" style=\"stroke:white;stroke-width:4\"/><line x1=\"287.225\" y1=\"263.847\" x2=\"287.484\" y2=\"264.813\" stroke-linecap=\"round\" style=\"stroke:white;stroke-width:4\"/><line x1=\"287.484\" y1=\"264.813\" x2=\"287.76\" y2=\"265.774\" stroke-linecap=\"round\" style=\"stroke:white;stroke-width:4\"/><line x1=\"287.76\" y1=\"265.774\" x2=\"288.052\" y2=\"266.73\" stroke-linecap=\"round\" style=\"stroke:white;stroke-width:4\"/><line x1=\"288.052\" y1=\"266.73\" x2=\"288.361\" y2=\"267.681\" stroke-linecap=\"round\" style=\"stroke:white;stroke-width:4\"/><line x1=\"288.361\" y1=\"267.681\" x2=\"288.687\" y2=\"268.627\" stroke-linecap=\"round\" style=\"stroke:white;stroke-width:4\"/><line x1=\"288.687\" y1=\"268.627\" x2=\"289.029\" y2=\"269.567\" stroke-linecap=\"round\" style=\"stroke:white;stroke-width:4\"/><line x1=\"289.029\" y1=\"269.567\" x2=\"289.387\" y2=\"270.501\" stroke-linecap=\"round\" style=\"stroke:white;stroke-width:4\"/><line x1=\"289.387\" y1=\"270.501\" x2=\"289.762\" y2=\"271.428\" stroke-linecap=\"round\" style=\"stroke:white;stroke-width:4\"/><line x1=\"289.762\" y1=\"271.428\" x2=\"290.153\" y2=\"272.349\" stroke-linecap=\"round\" style=\"stroke:white;stroke-width:4\"/><line x1=\"290.153\" y1=\"272.349\" x2=\"290.56\" y2=\"273.263\" stroke-linecap=\"round\" style=\"stroke:white;stroke-width:4\"/><line x1=\"290.56\" y1=\"273.263\" x2=\"290.983\" y2=\"274.169\" stroke-linecap=\"round\" style=\"stroke:white;stroke-width:4\"/><line x1=\"290.983\" y1=\"274.169\" x2=\"291.421\" y2=\"275.068\" stroke-linecap=\"round\" style=\"stroke:white;stroke-width:4\"/><line x1=\"291.421\" y1=\"275.068\" x2=\"291.875\" y2=\"275.959\" stroke-linecap=\"round\" style=\"stroke:white;stroke-width:4\"/><line x1=\"291.875\" y1=\"275.959\" x2=\"292.344\" y2=\"276.842\" stroke-linecap=\"round\" style=\"stroke:white;stroke-width:4\"/><line x1=\"292.344\" y1=\"276.842\" x2=\"292.829\" y2=\"277.717\" stroke-linecap=\"round\" style=\"stroke:white;stroke-width:4\"/><line x1=\"292.829\" y1=\"277.717\" x2=\"293.329\" y2=\"278.583\" stroke-linecap=\"round\" style=\"stroke:white;stroke-width:4\"/><line x1=\"293.329\" y1=\"278.583\" x2=\"293.844\" y2=\"279.44\" stroke-linecap=\"round\" style=\"stroke:white;stroke-width:4\"/><line x1=\"293.844\" y1=\"279.44\" x2=\"294.374\" y2=\"280.288\" stroke-linecap=\"round\" style=\"stroke:white;stroke-width:4\"/><line x1=\"294.374\" y1=\"280.288\" x2=\"294.919\" y2=\"281.127\" stroke-linecap=\"round\" style=\"stroke:white;stroke-width:4\"/><line x1=\"294.919\" y1=\"281.127\" x2=\"295.478\" y2=\"281.956\" stroke-linecap=\"round\" style=\"stroke:white;stroke-width:4\"/><line x1=\"295.478\" y1=\"281.956\" x2=\"296.052\" y2=\"282.775\" stroke-linecap=\"round\" style=\"stroke:white;stroke-width:4\"/><line x1=\"296.052\" y1=\"282.775\" x2=\"296.64\" y2=\"283.584\" stroke-linecap=\"round\" style=\"stroke:white;stroke-width:4\"/><line x1=\"296.64\" y1=\"283.584\" x2=\"297.242\" y2=\"284.383\" stroke-linecap=\"round\" style=\"stroke:white;stroke-width:4\"/><line x1=\"297.242\" y1=\"284.383\" x2=\"297.858\" y2=\"285.171\" stroke-linecap=\"round\" style=\"stroke:white;stroke-width:4\"/><line x1=\"297.858\" y1=\"285.171\" x2=\"298.487\" y2=\"285.948\" stroke-linecap=\"round\" style=\"stroke:white;stroke-width:4\"/><line x1=\"298.487\" y1=\"285.948\" x2=\"299.13\" y2=\"286.714\" stroke-linecap=\"round\" style=\"stroke:white;stroke-width:4\"/><line x1=\"299.13\" y1=\"286.714\" x2=\"299.786\" y2=\"287.469\" stroke-linecap=\"round\" style=\"stroke:white;stroke-width:4\"/><line x1=\"299.786\" y1=\"287.469\" x2=\"300.455\" y2=\"288.212\" stroke-linecap=\"round\" style=\"stroke:white;stroke-width:4\"/><line x1=\"300.455\" y1=\"288.212\" x2=\"301.137\" y2=\"288.943\" stroke-linecap=\"round\" style=\"stroke:white;stroke-width:4\"/><line x1=\"301.137\" y1=\"288.943\" x2=\"301.832\" y2=\"289.662\" stroke-linecap=\"round\" style=\"stroke:white;stroke-width:4\"/><line x1=\"301.832\" y1=\"289.662\" x2=\"302.539\" y2=\"290.369\" stroke-linecap=\"round\" style=\"stroke:white;stroke-width:4\"/><line x1=\"302.539\" y1=\"290.369\" x2=\"303.258\" y2=\"291.064\" stroke-linecap=\"round\" style=\"stroke:white;stroke-width:4\"/><line x1=\"303.258\" y1=\"291.064\" x2=\"303.989\" y2=\"291.746\" stroke-linecap=\"round\" style=\"stroke:white;stroke-width:4\"/><line x1=\"303.989\" y1=\"291.746\" x2=\"304.732\" y2=\"292.415\" stroke-linecap=\"round\" style=\"stroke:white;stroke-width:4\"/><line x1=\"304.732\" y1=\"292.415\" x2=\"305.487\" y2=\"293.071\" stroke-linecap=\"round\" style=\"stroke:white;stroke-width:4\"/><line x1=\"305.487\" y1=\"293.071\" x2=\"306.253\" y2=\"293.714\" stroke-linecap=\"round\" style=\"stroke:white;stroke-width:4\"/><line x1=\"306.253\" y1=\"293.714\" x2=\"307.03\" y2=\"294.343\" stroke-linecap=\"round\" style=\"stroke:white;stroke-width:4\"/><line x1=\"307.03\" y1=\"294.343\" x2=\"307.818\" y2=\"294.959\" stroke-linecap=\"round\" style=\"stroke:white;stroke-width:4\"/><line x1=\"307.818\" y1=\"294.959\" x2=\"308.617\" y2=\"295.561\" stroke-linecap=\"round\" style=\"stroke:white;stroke-width:4\"/><line x1=\"308.617\" y1=\"295.561\" x2=\"309.426\" y2=\"296.149\" stroke-linecap=\"round\" style=\"stroke:white;stroke-width:4\"/><line x1=\"309.426\" y1=\"296.149\" x2=\"310.245\" y2=\"296.723\" stroke-linecap=\"round\" style=\"stroke:white;stroke-width:4\"/><line x1=\"310.245\" y1=\"296.723\" x2=\"311.074\" y2=\"297.282\" stroke-linecap=\"round\" style=\"stroke:white;stroke-width:4\"/><line x1=\"311.074\" y1=\"297.282\" x2=\"311.913\" y2=\"297.827\" stroke-linecap=\"round\" style=\"stroke:white;stroke-width:4\"/><line x1=\"311.913\" y1=\"297.827\" x2=\"312.761\" y2=\"298.357\" stroke-linecap=\"round\" style=\"stroke:white;stroke-width:4\"/><line x1=\"312.761\" y1=\"298.357\" x2=\"313.618\" y2=\"298.872\" stroke-linecap=\"round\" style=\"stroke:white;stroke-width:4\"/><line x1=\"313.618\" y1=\"298.872\" x2=\"314.484\" y2=\"299.372\" stroke-linecap=\"round\" style=\"stroke:white;stroke-width:4\"/><line x1=\"314.484\" y1=\"299.372\" x2=\"315.359\" y2=\"299.857\" stroke-linecap=\"round\" style=\"stroke:white;stroke-width:4\"/><line x1=\"315.359\" y1=\"299.857\" x2=\"316.242\" y2=\"300.326\" stroke-linecap=\"round\" style=\"stroke:white;stroke-width:4\"/><line x1=\"316.242\" y1=\"300.326\" x2=\"317.133\" y2=\"300.78\" stroke-linecap=\"round\" style=\"stroke:white;stroke-width:4\"/><line x1=\"317.133\" y1=\"300.78\" x2=\"318.032\" y2=\"301.218\" stroke-linecap=\"round\" style=\"stroke:white;stroke-width:4\"/><line x1=\"318.032\" y1=\"301.218\" x2=\"318.938\" y2=\"301.641\" stroke-linecap=\"round\" style=\"stroke:white;stroke-width:4\"/><line x1=\"318.938\" y1=\"301.641\" x2=\"319.852\" y2=\"302.048\" stroke-linecap=\"round\" style=\"stroke:white;stroke-width:4\"/><line x1=\"319.852\" y1=\"302.048\" x2=\"320.773\" y2=\"302.439\" stroke-linecap=\"round\" style=\"stroke:white;stroke-width:4\"/><line x1=\"320.773\" y1=\"302.439\" x2=\"321.7\" y2=\"302.814\" stroke-linecap=\"round\" style=\"stroke:white;stroke-width:4\"/><line x1=\"321.7\" y1=\"302.814\" x2=\"322.634\" y2=\"303.172\" stroke-linecap=\"round\" style=\"stroke:white;stroke-width:4\"/><line x1=\"322.634\" y1=\"303.172\" x2=\"323.574\" y2=\"303.514\" stroke-linecap=\"round\" style=\"stroke:white;stroke-width:4\"/><line x1=\"323.574\" y1=\"303.514\" x2=\"324.52\" y2=\"303.84\" stroke-linecap=\"round\" style=\"stroke:white;stroke-width:4\"/><line x1=\"324.52\" y1=\"303.84\" x2=\"325.471\" y2=\"304.149\" stroke-linecap=\"round\" style=\"stroke:white;stroke-width:4\"/><line x1=\"325.471\" y1=\"304.149\" x2=\"326.427\" y2=\"304.441\" stroke-linecap=\"round\" style=\"stroke:white;stroke-width:4\"/><line x1=\"326.427\" y1=\"304.441\" x2=\"327.388\" y2=\"304.717\" stroke-linecap=\"round\" style=\"stroke:white;stroke-width:4\"/><line x1=\"327.388\" y1=\"304.717\" x2=\"328.354\" y2=\"304.976\" stroke-linecap=\"round\" style=\"stroke:white;stroke-width:4\"/><line x1=\"328.354\" y1=\"304.976\" x2=\"329.324\" y2=\"305.218\" stroke-linecap=\"round\" style=\"stroke:white;stroke-width:4\"/><line x1=\"329.324\" y1=\"305.218\" x2=\"330.298\" y2=\"305.443\" stroke-linecap=\"round\" style=\"stroke:white;stroke-width:4\"/><line x1=\"330.298\" y1=\"305.443\" x2=\"331.276\" y2=\"305.651\" stroke-linecap=\"round\" style=\"stroke:white;stroke-width:4\"/><line x1=\"331.276\" y1=\"305.651\" x2=\"332.258\" y2=\"305.842\" stroke-linecap=\"round\" style=\"stroke:white;stroke-width:4\"/><line x1=\"332.258\" y1=\"305.842\" x2=\"333.243\" y2=\"306.016\" stroke-linecap=\"round\" style=\"stroke:white;stroke-width:4\"/><line x1=\"333.243\" y1=\"306.016\" x2=\"334.231\" y2=\"306.172\" stroke-linecap=\"round\" style=\"stroke:white;stroke-width:4\"/><line x1=\"334.231\" y1=\"306.172\" x2=\"335.221\" y2=\"306.311\" stroke-linecap=\"round\" style=\"stroke:white;stroke-width:4\"/><line x1=\"335.221\" y1=\"306.311\" x2=\"336.214\" y2=\"306.433\" stroke-linecap=\"round\" style=\"stroke:white;stroke-width:4\"/><line x1=\"336.214\" y1=\"306.433\" x2=\"337.209\" y2=\"306.538\" stroke-linecap=\"round\" style=\"stroke:white;stroke-width:4\"/><line x1=\"337.209\" y1=\"306.538\" x2=\"338.205\" y2=\"306.625\" stroke-linecap=\"round\" style=\"stroke:white;stroke-width:4\"/><line x1=\"338.205\" y1=\"306.625\" x2=\"339.203\" y2=\"306.695\" stroke-linecap=\"round\" style=\"stroke:white;stroke-width:4\"/><line x1=\"339.203\" y1=\"306.695\" x2=\"340.202\" y2=\"306.747\" stroke-linecap=\"round\" style=\"stroke:white;stroke-width:4\"/><line x1=\"340.202\" y1=\"306.747\" x2=\"341.201\" y2=\"306.782\" stroke-linecap=\"round\" style=\"stroke:white;stroke-width:4\"/><line x1=\"341.201\" y1=\"306.782\" x2=\"342.201\" y2=\"306.799\" stroke-linecap=\"round\" style=\"stroke:white;stroke-width:4\"/><line x1=\"342.201\" y1=\"306.799\" x2=\"343.201\" y2=\"306.799\" stroke-linecap=\"round\" style=\"stroke:white;stroke-width:4\"/><line x1=\"343.201\" y1=\"306.799\" x2=\"344.201\" y2=\"306.782\" stroke-linecap=\"round\" style=\"stroke:white;stroke-width:4\"/><line x1=\"344.201\" y1=\"306.782\" x2=\"345.2\" y2=\"306.747\" stroke-linecap=\"round\" style=\"stroke:white;stroke-width:4\"/><line x1=\"345.2\" y1=\"306.747\" x2=\"346.199\" y2=\"306.695\" stroke-linecap=\"round\" style=\"stroke:white;stroke-width:4\"/><line x1=\"346.199\" y1=\"306.695\" x2=\"347.197\" y2=\"306.625\" stroke-linecap=\"round\" style=\"stroke:white;stroke-width:4\"/><line x1=\"347.197\" y1=\"306.625\" x2=\"348.193\" y2=\"306.538\" stroke-linecap=\"round\" style=\"stroke:white;stroke-width:4\"/><line x1=\"348.193\" y1=\"306.538\" x2=\"349.188\" y2=\"306.433\" stroke-linecap=\"round\" style=\"stroke:white;stroke-width:4\"/><line x1=\"349.188\" y1=\"306.433\" x2=\"350.181\" y2=\"306.311\" stroke-linecap=\"round\" style=\"stroke:white;stroke-width:4\"/><line x1=\"350.181\" y1=\"306.311\" x2=\"351.171\" y2=\"306.172\" stroke-linecap=\"round\" style=\"stroke:white;stroke-width:4\"/><line x1=\"351.171\" y1=\"306.172\" x2=\"352.159\" y2=\"306.016\" stroke-linecap=\"round\" style=\"stroke:white;stroke-width:4\"/><line x1=\"352.159\" y1=\"306.016\" x2=\"353.144\" y2=\"305.842\" stroke-linecap=\"round\" style=\"stroke:white;stroke-width:4\"/><line x1=\"353.144\" y1=\"305.842\" x2=\"354.126\" y2=\"305.651\" stroke-linecap=\"round\" style=\"stroke:white;stroke-width:4\"/><line x1=\"354.126\" y1=\"305.651\" x2=\"355.104\" y2=\"305.443\" stroke-linecap=\"round\" style=\"stroke:white;stroke-width:4\"/><line x1=\"355.104\" y1=\"305.443\" x2=\"356.078\" y2=\"305.218\" stroke-linecap=\"round\" style=\"stroke:white;stroke-width:4\"/><line x1=\"356.078\" y1=\"305.218\" x2=\"357.048\" y2=\"304.976\" stroke-linecap=\"round\" style=\"stroke:white;stroke-width:4\"/><line x1=\"357.048\" y1=\"304.976\" x2=\"358.014\" y2=\"304.717\" stroke-linecap=\"round\" style=\"stroke:white;stroke-width:4\"/><line x1=\"358.014\" y1=\"304.717\" x2=\"358.975\" y2=\"304.441\" stroke-linecap=\"round\" style=\"stroke:white;stroke-width:4\"/><line x1=\"358.975\" y1=\"304.441\" x2=\"359.931\" y2=\"304.149\" stroke-linecap=\"round\" style=\"stroke:white;stroke-width:4\"/><line x1=\"359.931\" y1=\"304.149\" x2=\"360.882\" y2=\"303.84\" stroke-linecap=\"round\" style=\"stroke:white;stroke-width:4\"/><line x1=\"360.882\" y1=\"303.84\" x2=\"361.828\" y2=\"303.514\" stroke-linecap=\"round\" style=\"stroke:white;stroke-width:4\"/><line x1=\"361.828\" y1=\"303.514\" x2=\"362.768\" y2=\"303.172\" stroke-linecap=\"round\" style=\"stroke:white;stroke-width:4\"/><line x1=\"362.768\" y1=\"303.172\" x2=\"363.702\" y2=\"302.814\" stroke-linecap=\"round\" style=\"stroke:white;stroke-width:4\"/><line x1=\"363.702\" y1=\"302.814\" x2=\"364.629\" y2=\"302.439\" stroke-linecap=\"round\" style=\"stroke:white;stroke-width:4\"/><line x1=\"364.629\" y1=\"302.439\" x2=\"365.55\" y2=\"302.048\" stroke-linecap=\"round\" style=\"stroke:white;stroke-width:4\"/><line x1=\"365.55\" y1=\"302.048\" x2=\"366.464\" y2=\"301.641\" stroke-linecap=\"round\" style=\"stroke:white;stroke-width:4\"/><line x1=\"366.464\" y1=\"301.641\" x2=\"367.37\" y2=\"301.218\" stroke-linecap=\"round\" style=\"stroke:white;stroke-width:4\"/><line x1=\"367.37\" y1=\"301.218\" x2=\"368.269\" y2=\"300.78\" stroke-linecap=\"round\" style=\"stroke:white;stroke-width:4\"/><line x1=\"368.269\" y1=\"300.78\" x2=\"369.16\" y2=\"300.326\" stroke-linecap=\"round\" style=\"stroke:white;stroke-width:4\"/><line x1=\"369.16\" y1=\"300.326\" x2=\"370.043\" y2=\"299.857\" stroke-linecap=\"round\" style=\"stroke:white;stroke-width:4\"/><line x1=\"370.043\" y1=\"299.857\" x2=\"370.918\" y2=\"299.372\" stroke-linecap=\"round\" style=\"stroke:white;stroke-width:4\"/><line x1=\"370.918\" y1=\"299.372\" x2=\"371.784\" y2=\"298.872\" stroke-linecap=\"round\" style=\"stroke:white;stroke-width:4\"/><line x1=\"371.784\" y1=\"298.872\" x2=\"372.641\" y2=\"298.357\" stroke-linecap=\"round\" style=\"stroke:white;stroke-width:4\"/><line x1=\"372.641\" y1=\"298.357\" x2=\"373.489\" y2=\"297.827\" stroke-linecap=\"round\" style=\"stroke:white;stroke-width:4\"/><line x1=\"373.489\" y1=\"297.827\" x2=\"374.328\" y2=\"297.282\" stroke-linecap=\"round\" style=\"stroke:white;stroke-width:4\"/><line x1=\"374.328\" y1=\"297.282\" x2=\"375.157\" y2=\"296.723\" stroke-linecap=\"round\" style=\"stroke:white;stroke-width:4\"/><line x1=\"375.157\" y1=\"296.723\" x2=\"375.976\" y2=\"296.149\" stroke-linecap=\"round\" style=\"stroke:white;stroke-width:4\"/><line x1=\"375.976\" y1=\"296.149\" x2=\"376.785\" y2=\"295.561\" stroke-linecap=\"round\" style=\"stroke:white;stroke-width:4\"/><line x1=\"376.785\" y1=\"295.561\" x2=\"377.584\" y2=\"294.959\" stroke-linecap=\"round\" style=\"stroke:white;stroke-width:4\"/><line x1=\"377.584\" y1=\"294.959\" x2=\"378.372\" y2=\"294.343\" stroke-linecap=\"round\" style=\"stroke:white;stroke-width:4\"/><line x1=\"378.372\" y1=\"294.343\" x2=\"379.149\" y2=\"293.714\" stroke-linecap=\"round\" style=\"stroke:white;stroke-width:4\"/><line x1=\"379.149\" y1=\"293.714\" x2=\"379.915\" y2=\"293.071\" stroke-linecap=\"round\" style=\"stroke:white;stroke-width:4\"/><line x1=\"379.915\" y1=\"293.071\" x2=\"380.67\" y2=\"292.415\" stroke-linecap=\"round\" style=\"stroke:white;stroke-width:4\"/><line x1=\"380.67\" y1=\"292.415\" x2=\"381.413\" y2=\"291.746\" stroke-linecap=\"round\" style=\"stroke:white;stroke-width:4\"/><line x1=\"381.413\" y1=\"291.746\" x2=\"382.144\" y2=\"291.064\" stroke-linecap=\"round\" style=\"stroke:white;stroke-width:4\"/><line x1=\"382.144\" y1=\"291.064\" x2=\"382.863\" y2=\"290.369\" stroke-linecap=\"round\" style=\"stroke:white;stroke-width:4\"/><line x1=\"382.863\" y1=\"290.369\" x2=\"383.57\" y2=\"289.662\" stroke-linecap=\"round\" style=\"stroke:white;stroke-width:4\"/><line x1=\"383.57\" y1=\"289.662\" x2=\"384.265\" y2=\"288.943\" stroke-linecap=\"round\" style=\"stroke:white;stroke-width:4\"/><line x1=\"384.265\" y1=\"288.943\" x2=\"384.947\" y2=\"288.212\" stroke-linecap=\"round\" style=\"stroke:white;stroke-width:4\"/><line x1=\"384.947\" y1=\"288.212\" x2=\"385.616\" y2=\"287.469\" stroke-linecap=\"round\" style=\"stroke:white;stroke-width:4\"/><line x1=\"385.616\" y1=\"287.469\" x2=\"386.272\" y2=\"286.714\" stroke-linecap=\"round\" style=\"stroke:white;stroke-width:4\"/><line x1=\"386.272\" y1=\"286.714\" x2=\"386.915\" y2=\"285.948\" stroke-linecap=\"round\" style=\"stroke:white;stroke-width:4\"/><line x1=\"386.915\" y1=\"285.948\" x2=\"387.544\" y2=\"285.171\" stroke-linecap=\"round\" style=\"stroke:white;stroke-width:4\"/><line x1=\"387.544\" y1=\"285.171\" x2=\"388.16\" y2=\"284.383\" stroke-linecap=\"round\" style=\"stroke:white;stroke-width:4\"/><line x1=\"388.16\" y1=\"284.383\" x2=\"388.762\" y2=\"283.584\" stroke-linecap=\"round\" style=\"stroke:white;stroke-width:4\"/><line x1=\"388.762\" y1=\"283.584\" x2=\"389.35\" y2=\"282.775\" stroke-linecap=\"round\" style=\"stroke:white;stroke-width:4\"/><line x1=\"389.35\" y1=\"282.775\" x2=\"389.924\" y2=\"281.956\" stroke-linecap=\"round\" style=\"stroke:white;stroke-width:4\"/><line x1=\"389.924\" y1=\"281.956\" x2=\"390.483\" y2=\"281.127\" stroke-linecap=\"round\" style=\"stroke:white;stroke-width:4\"/><line x1=\"390.483\" y1=\"281.127\" x2=\"391.028\" y2=\"280.288\" stroke-linecap=\"round\" style=\"stroke:white;stroke-width:4\"/><line x1=\"391.028\" y1=\"280.288\" x2=\"391.558\" y2=\"279.44\" stroke-linecap=\"round\" style=\"stroke:white;stroke-width:4\"/><line x1=\"391.558\" y1=\"279.44\" x2=\"392.073\" y2=\"278.583\" stroke-linecap=\"round\" style=\"stroke:white;stroke-width:4\"/><line x1=\"392.073\" y1=\"278.583\" x2=\"392.573\" y2=\"277.717\" stroke-linecap=\"round\" style=\"stroke:white;stroke-width:4\"/><line x1=\"392.573\" y1=\"277.717\" x2=\"393.058\" y2=\"276.842\" stroke-linecap=\"round\" style=\"stroke:white;stroke-width:4\"/><line x1=\"393.058\" y1=\"276.842\" x2=\"393.527\" y2=\"275.959\" stroke-linecap=\"round\" style=\"stroke:white;stroke-width:4\"/><line x1=\"393.527\" y1=\"275.959\" x2=\"393.981\" y2=\"275.068\" stroke-linecap=\"round\" style=\"stroke:white;stroke-width:4\"/><line x1=\"393.981\" y1=\"275.068\" x2=\"394.419\" y2=\"274.169\" stroke-linecap=\"round\" style=\"stroke:white;stroke-width:4\"/><line x1=\"394.419\" y1=\"274.169\" x2=\"394.842\" y2=\"273.263\" stroke-linecap=\"round\" style=\"stroke:white;stroke-width:4\"/><line x1=\"394.842\" y1=\"273.263\" x2=\"395.249\" y2=\"272.349\" stroke-linecap=\"round\" style=\"stroke:white;stroke-width:4\"/><line x1=\"395.249\" y1=\"272.349\" x2=\"395.64\" y2=\"271.428\" stroke-linecap=\"round\" style=\"stroke:white;stroke-width:4\"/><line x1=\"395.64\" y1=\"271.428\" x2=\"396.015\" y2=\"270.501\" stroke-linecap=\"round\" style=\"stroke:white;stroke-width:4\"/><line x1=\"396.015\" y1=\"270.501\" x2=\"396.373\" y2=\"269.567\" stroke-linecap=\"round\" style=\"stroke:white;stroke-width:4\"/><line x1=\"396.373\" y1=\"269.567\" x2=\"396.715\" y2=\"268.627\" stroke-linecap=\"round\" style=\"stroke:white;stroke-width:4\"/><line x1=\"396.715\" y1=\"268.627\" x2=\"397.041\" y2=\"267.681\" stroke-linecap=\"round\" style=\"stroke:white;stroke-width:4\"/><line x1=\"397.041\" y1=\"267.681\" x2=\"397.35\" y2=\"266.73\" stroke-linecap=\"round\" style=\"stroke:white;stroke-width:4\"/><line x1=\"397.35\" y1=\"266.73\" x2=\"397.642\" y2=\"265.774\" stroke-linecap=\"round\" style=\"stroke:white;stroke-width:4\"/><line x1=\"397.642\" y1=\"265.774\" x2=\"397.918\" y2=\"264.813\" stroke-linecap=\"round\" style=\"stroke:white;stroke-width:4\"/><line x1=\"397.918\" y1=\"264.813\" x2=\"398.177\" y2=\"263.847\" stroke-linecap=\"round\" style=\"stroke:white;stroke-width:4\"/><line x1=\"398.177\" y1=\"263.847\" x2=\"398.419\" y2=\"262.877\" stroke-linecap=\"round\" style=\"stroke:white;stroke-width:4\"/><line x1=\"398.419\" y1=\"262.877\" x2=\"398.644\" y2=\"261.903\" stroke-linecap=\"round\" style=\"stroke:white;stroke-width:4\"/><line x1=\"398.644\" y1=\"261.903\" x2=\"398.852\" y2=\"260.925\" stroke-linecap=\"round\" style=\"stroke:white;stroke-width:4\"/><line x1=\"398.852\" y1=\"260.925\" x2=\"399.043\" y2=\"259.943\" stroke-linecap=\"round\" style=\"stroke:white;stroke-width:4\"/><line x1=\"399.043\" y1=\"259.943\" x2=\"399.217\" y2=\"258.958\" stroke-linecap=\"round\" style=\"stroke:white;stroke-width:4\"/><line x1=\"399.217\" y1=\"258.958\" x2=\"399.373\" y2=\"257.97\" stroke-linecap=\"round\" style=\"stroke:white;stroke-width:4\"/><line x1=\"399.373\" y1=\"257.97\" x2=\"399.512\" y2=\"256.98\" stroke-linecap=\"round\" style=\"stroke:white;stroke-width:4\"/><line x1=\"399.512\" y1=\"256.98\" x2=\"399.634\" y2=\"255.987\" stroke-linecap=\"round\" style=\"stroke:white;stroke-width:4\"/><line x1=\"399.634\" y1=\"255.987\" x2=\"399.739\" y2=\"254.992\" stroke-linecap=\"round\" style=\"stroke:white;stroke-width:4\"/><line x1=\"399.739\" y1=\"254.992\" x2=\"399.826\" y2=\"253.996\" stroke-linecap=\"round\" style=\"stroke:white;stroke-width:4\"/><line x1=\"399.826\" y1=\"253.996\" x2=\"399.896\" y2=\"252.998\" stroke-linecap=\"round\" style=\"stroke:white;stroke-width:4\"/><line x1=\"399.896\" y1=\"252.998\" x2=\"399.948\" y2=\"251.999\" stroke-linecap=\"round\" style=\"stroke:white;stroke-width:4\"/><line x1=\"399.948\" y1=\"251.999\" x2=\"399.983\" y2=\"251.0\" stroke-linecap=\"round\" style=\"stroke:white;stroke-width:4\"/><line x1=\"399.983\" y1=\"251.0\" x2=\"400.0\" y2=\"250.0\" stroke-linecap=\"round\" style=\"stroke:white;stroke-width:4\"/>\n",
              "        <g visibility=visible transform=\"rotate(360,400.0,250.0) translate(382.0, 232.0)\">\n",
              "<path style=\" stroke:none;fill-rule:evenodd;fill:white;fill-opacity:1;\" d=\"M 18.214844 0.632812 C 16.109375 1.800781 15.011719 4.074219 15.074219 7.132812 L 15.085938 7.652344 L 14.785156 7.496094 C 13.476562 6.824219 11.957031 6.671875 10.40625 7.066406 C 8.46875 7.550781 6.515625 9.15625 4.394531 11.992188 C 3.0625 13.777344 2.679688 14.636719 3.042969 15.027344 L 3.15625 15.152344 L 3.519531 15.152344 C 4.238281 15.152344 4.828125 14.886719 8.1875 13.039062 C 9.386719 12.378906 10.371094 11.839844 10.378906 11.839844 C 10.386719 11.839844 10.355469 11.929688 10.304688 12.035156 C 9.832031 13.09375 9.257812 14.820312 8.96875 16.078125 C 7.914062 20.652344 8.617188 24.53125 11.070312 27.660156 C 11.351562 28.015625 11.363281 27.914062 10.972656 28.382812 C 8.925781 30.84375 7.945312 33.28125 8.238281 35.1875 C 8.289062 35.527344 8.28125 35.523438 8.917969 35.523438 C 10.941406 35.523438 13.074219 34.207031 15.136719 31.6875 C 15.359375 31.417969 15.328125 31.425781 15.5625 31.574219 C 16.292969 32.042969 18.023438 32.964844 18.175781 32.964844 C 18.335938 32.964844 19.941406 32.210938 20.828125 31.71875 C 20.996094 31.625 21.136719 31.554688 21.136719 31.558594 C 21.203125 31.664062 21.898438 32.414062 22.222656 32.730469 C 23.835938 34.300781 25.5625 35.132812 27.582031 35.300781 C 27.90625 35.328125 27.9375 35.308594 28.007812 34.984375 C 28.382812 33.242188 27.625 30.925781 25.863281 28.425781 L 25.542969 27.96875 L 25.699219 27.785156 C 28.945312 23.960938 29.132812 18.699219 26.257812 11.96875 L 26.207031 11.84375 L 27.945312 12.703125 C 31.53125 14.476562 32.316406 14.800781 33.03125 14.800781 C 33.976562 14.800781 33.78125 13.9375 32.472656 12.292969 C 28.519531 7.355469 25.394531 5.925781 21.921875 7.472656 L 21.558594 7.636719 L 21.578125 7.542969 C 21.699219 6.992188 21.761719 5.742188 21.699219 5.164062 C 21.496094 3.296875 20.664062 1.964844 19.003906 0.855469 C 18.480469 0.503906 18.457031 0.5 18.214844 0.632812\"/>\n",
              "</g>\n",
              "      </svg>\n",
              "    "
            ]
          },
          "metadata": {}
        }
      ],
      "source": [
        "initializeTurtle()\n",
        "\n",
        "for i in range (360):\n",
        "   forward (1)\n",
        "   left(1)"
      ]
    },
    {
      "cell_type": "markdown",
      "metadata": {
        "id": "hTC8Hx3aVlNu"
      },
      "source": [
        "## Turtle Walk Forward—Recursively\n",
        "In the following cell, let's write a **recursive** function to make Turtle walk forward."
      ]
    },
    {
      "cell_type": "code",
      "execution_count": 4,
      "metadata": {
        "id": "h6zqeDnpG6tv",
        "colab": {
          "base_uri": "https://localhost:8080/",
          "height": 521
        },
        "outputId": "77744f78-7d83-4461-b998-330954842e17"
      },
      "outputs": [
        {
          "output_type": "display_data",
          "data": {
            "text/plain": [
              "<IPython.core.display.HTML object>"
            ],
            "text/html": [
              "\n",
              "      <svg width=\"800\" height=\"500\">\n",
              "        <rect width=\"100%\" height=\"100%\" fill=\"black\"/>\n",
              "        <line x1=\"400\" y1=\"250\" x2=\"400.0\" y2=\"249.0\" stroke-linecap=\"round\" style=\"stroke:white;stroke-width:4\"/><line x1=\"400.0\" y1=\"249.0\" x2=\"400.0\" y2=\"248.0\" stroke-linecap=\"round\" style=\"stroke:white;stroke-width:4\"/><line x1=\"400.0\" y1=\"248.0\" x2=\"400.0\" y2=\"247.0\" stroke-linecap=\"round\" style=\"stroke:white;stroke-width:4\"/><line x1=\"400.0\" y1=\"247.0\" x2=\"400.0\" y2=\"246.0\" stroke-linecap=\"round\" style=\"stroke:white;stroke-width:4\"/><line x1=\"400.0\" y1=\"246.0\" x2=\"400.0\" y2=\"245.0\" stroke-linecap=\"round\" style=\"stroke:white;stroke-width:4\"/><line x1=\"400.0\" y1=\"245.0\" x2=\"400.0\" y2=\"244.0\" stroke-linecap=\"round\" style=\"stroke:white;stroke-width:4\"/><line x1=\"400.0\" y1=\"244.0\" x2=\"400.0\" y2=\"243.0\" stroke-linecap=\"round\" style=\"stroke:white;stroke-width:4\"/><line x1=\"400.0\" y1=\"243.0\" x2=\"400.0\" y2=\"242.0\" stroke-linecap=\"round\" style=\"stroke:white;stroke-width:4\"/><line x1=\"400.0\" y1=\"242.0\" x2=\"400.0\" y2=\"241.0\" stroke-linecap=\"round\" style=\"stroke:white;stroke-width:4\"/><line x1=\"400.0\" y1=\"241.0\" x2=\"400.0\" y2=\"240.0\" stroke-linecap=\"round\" style=\"stroke:white;stroke-width:4\"/><line x1=\"400.0\" y1=\"240.0\" x2=\"400.0\" y2=\"239.0\" stroke-linecap=\"round\" style=\"stroke:white;stroke-width:4\"/><line x1=\"400.0\" y1=\"239.0\" x2=\"400.0\" y2=\"238.0\" stroke-linecap=\"round\" style=\"stroke:white;stroke-width:4\"/><line x1=\"400.0\" y1=\"238.0\" x2=\"400.0\" y2=\"237.0\" stroke-linecap=\"round\" style=\"stroke:white;stroke-width:4\"/><line x1=\"400.0\" y1=\"237.0\" x2=\"400.0\" y2=\"236.0\" stroke-linecap=\"round\" style=\"stroke:white;stroke-width:4\"/><line x1=\"400.0\" y1=\"236.0\" x2=\"400.0\" y2=\"235.0\" stroke-linecap=\"round\" style=\"stroke:white;stroke-width:4\"/><line x1=\"400.0\" y1=\"235.0\" x2=\"400.0\" y2=\"234.0\" stroke-linecap=\"round\" style=\"stroke:white;stroke-width:4\"/><line x1=\"400.0\" y1=\"234.0\" x2=\"400.0\" y2=\"233.0\" stroke-linecap=\"round\" style=\"stroke:white;stroke-width:4\"/><line x1=\"400.0\" y1=\"233.0\" x2=\"400.0\" y2=\"232.0\" stroke-linecap=\"round\" style=\"stroke:white;stroke-width:4\"/><line x1=\"400.0\" y1=\"232.0\" x2=\"400.0\" y2=\"231.0\" stroke-linecap=\"round\" style=\"stroke:white;stroke-width:4\"/><line x1=\"400.0\" y1=\"231.0\" x2=\"400.0\" y2=\"230.0\" stroke-linecap=\"round\" style=\"stroke:white;stroke-width:4\"/><line x1=\"400.0\" y1=\"230.0\" x2=\"400.0\" y2=\"229.0\" stroke-linecap=\"round\" style=\"stroke:white;stroke-width:4\"/><line x1=\"400.0\" y1=\"229.0\" x2=\"400.0\" y2=\"228.0\" stroke-linecap=\"round\" style=\"stroke:white;stroke-width:4\"/><line x1=\"400.0\" y1=\"228.0\" x2=\"400.0\" y2=\"227.0\" stroke-linecap=\"round\" style=\"stroke:white;stroke-width:4\"/><line x1=\"400.0\" y1=\"227.0\" x2=\"400.0\" y2=\"226.0\" stroke-linecap=\"round\" style=\"stroke:white;stroke-width:4\"/><line x1=\"400.0\" y1=\"226.0\" x2=\"400.0\" y2=\"225.0\" stroke-linecap=\"round\" style=\"stroke:white;stroke-width:4\"/><line x1=\"400.0\" y1=\"225.0\" x2=\"400.0\" y2=\"224.0\" stroke-linecap=\"round\" style=\"stroke:white;stroke-width:4\"/><line x1=\"400.0\" y1=\"224.0\" x2=\"400.0\" y2=\"223.0\" stroke-linecap=\"round\" style=\"stroke:white;stroke-width:4\"/><line x1=\"400.0\" y1=\"223.0\" x2=\"400.0\" y2=\"222.0\" stroke-linecap=\"round\" style=\"stroke:white;stroke-width:4\"/><line x1=\"400.0\" y1=\"222.0\" x2=\"400.0\" y2=\"221.0\" stroke-linecap=\"round\" style=\"stroke:white;stroke-width:4\"/><line x1=\"400.0\" y1=\"221.0\" x2=\"400.0\" y2=\"220.0\" stroke-linecap=\"round\" style=\"stroke:white;stroke-width:4\"/><line x1=\"400.0\" y1=\"220.0\" x2=\"400.0\" y2=\"219.0\" stroke-linecap=\"round\" style=\"stroke:white;stroke-width:4\"/><line x1=\"400.0\" y1=\"219.0\" x2=\"400.0\" y2=\"218.0\" stroke-linecap=\"round\" style=\"stroke:white;stroke-width:4\"/><line x1=\"400.0\" y1=\"218.0\" x2=\"400.0\" y2=\"217.0\" stroke-linecap=\"round\" style=\"stroke:white;stroke-width:4\"/><line x1=\"400.0\" y1=\"217.0\" x2=\"400.0\" y2=\"216.0\" stroke-linecap=\"round\" style=\"stroke:white;stroke-width:4\"/><line x1=\"400.0\" y1=\"216.0\" x2=\"400.0\" y2=\"215.0\" stroke-linecap=\"round\" style=\"stroke:white;stroke-width:4\"/><line x1=\"400.0\" y1=\"215.0\" x2=\"400.0\" y2=\"214.0\" stroke-linecap=\"round\" style=\"stroke:white;stroke-width:4\"/><line x1=\"400.0\" y1=\"214.0\" x2=\"400.0\" y2=\"213.0\" stroke-linecap=\"round\" style=\"stroke:white;stroke-width:4\"/><line x1=\"400.0\" y1=\"213.0\" x2=\"400.0\" y2=\"212.0\" stroke-linecap=\"round\" style=\"stroke:white;stroke-width:4\"/><line x1=\"400.0\" y1=\"212.0\" x2=\"400.0\" y2=\"211.0\" stroke-linecap=\"round\" style=\"stroke:white;stroke-width:4\"/><line x1=\"400.0\" y1=\"211.0\" x2=\"400.0\" y2=\"210.0\" stroke-linecap=\"round\" style=\"stroke:white;stroke-width:4\"/><line x1=\"400.0\" y1=\"210.0\" x2=\"400.0\" y2=\"209.0\" stroke-linecap=\"round\" style=\"stroke:white;stroke-width:4\"/><line x1=\"400.0\" y1=\"209.0\" x2=\"400.0\" y2=\"208.0\" stroke-linecap=\"round\" style=\"stroke:white;stroke-width:4\"/><line x1=\"400.0\" y1=\"208.0\" x2=\"400.0\" y2=\"207.0\" stroke-linecap=\"round\" style=\"stroke:white;stroke-width:4\"/><line x1=\"400.0\" y1=\"207.0\" x2=\"400.0\" y2=\"206.0\" stroke-linecap=\"round\" style=\"stroke:white;stroke-width:4\"/><line x1=\"400.0\" y1=\"206.0\" x2=\"400.0\" y2=\"205.0\" stroke-linecap=\"round\" style=\"stroke:white;stroke-width:4\"/><line x1=\"400.0\" y1=\"205.0\" x2=\"400.0\" y2=\"204.0\" stroke-linecap=\"round\" style=\"stroke:white;stroke-width:4\"/><line x1=\"400.0\" y1=\"204.0\" x2=\"400.0\" y2=\"203.0\" stroke-linecap=\"round\" style=\"stroke:white;stroke-width:4\"/><line x1=\"400.0\" y1=\"203.0\" x2=\"400.0\" y2=\"202.0\" stroke-linecap=\"round\" style=\"stroke:white;stroke-width:4\"/><line x1=\"400.0\" y1=\"202.0\" x2=\"400.0\" y2=\"201.0\" stroke-linecap=\"round\" style=\"stroke:white;stroke-width:4\"/><line x1=\"400.0\" y1=\"201.0\" x2=\"400.0\" y2=\"200.0\" stroke-linecap=\"round\" style=\"stroke:white;stroke-width:4\"/><line x1=\"400.0\" y1=\"200.0\" x2=\"400.0\" y2=\"199.0\" stroke-linecap=\"round\" style=\"stroke:white;stroke-width:4\"/><line x1=\"400.0\" y1=\"199.0\" x2=\"400.0\" y2=\"198.0\" stroke-linecap=\"round\" style=\"stroke:white;stroke-width:4\"/><line x1=\"400.0\" y1=\"198.0\" x2=\"400.0\" y2=\"197.0\" stroke-linecap=\"round\" style=\"stroke:white;stroke-width:4\"/><line x1=\"400.0\" y1=\"197.0\" x2=\"400.0\" y2=\"196.0\" stroke-linecap=\"round\" style=\"stroke:white;stroke-width:4\"/><line x1=\"400.0\" y1=\"196.0\" x2=\"400.0\" y2=\"195.0\" stroke-linecap=\"round\" style=\"stroke:white;stroke-width:4\"/><line x1=\"400.0\" y1=\"195.0\" x2=\"400.0\" y2=\"194.0\" stroke-linecap=\"round\" style=\"stroke:white;stroke-width:4\"/><line x1=\"400.0\" y1=\"194.0\" x2=\"400.0\" y2=\"193.0\" stroke-linecap=\"round\" style=\"stroke:white;stroke-width:4\"/><line x1=\"400.0\" y1=\"193.0\" x2=\"400.0\" y2=\"192.0\" stroke-linecap=\"round\" style=\"stroke:white;stroke-width:4\"/><line x1=\"400.0\" y1=\"192.0\" x2=\"400.0\" y2=\"191.0\" stroke-linecap=\"round\" style=\"stroke:white;stroke-width:4\"/><line x1=\"400.0\" y1=\"191.0\" x2=\"400.0\" y2=\"190.0\" stroke-linecap=\"round\" style=\"stroke:white;stroke-width:4\"/><line x1=\"400.0\" y1=\"190.0\" x2=\"400.0\" y2=\"189.0\" stroke-linecap=\"round\" style=\"stroke:white;stroke-width:4\"/><line x1=\"400.0\" y1=\"189.0\" x2=\"400.0\" y2=\"188.0\" stroke-linecap=\"round\" style=\"stroke:white;stroke-width:4\"/><line x1=\"400.0\" y1=\"188.0\" x2=\"400.0\" y2=\"187.0\" stroke-linecap=\"round\" style=\"stroke:white;stroke-width:4\"/><line x1=\"400.0\" y1=\"187.0\" x2=\"400.0\" y2=\"186.0\" stroke-linecap=\"round\" style=\"stroke:white;stroke-width:4\"/><line x1=\"400.0\" y1=\"186.0\" x2=\"400.0\" y2=\"185.0\" stroke-linecap=\"round\" style=\"stroke:white;stroke-width:4\"/><line x1=\"400.0\" y1=\"185.0\" x2=\"400.0\" y2=\"184.0\" stroke-linecap=\"round\" style=\"stroke:white;stroke-width:4\"/><line x1=\"400.0\" y1=\"184.0\" x2=\"400.0\" y2=\"183.0\" stroke-linecap=\"round\" style=\"stroke:white;stroke-width:4\"/><line x1=\"400.0\" y1=\"183.0\" x2=\"400.0\" y2=\"182.0\" stroke-linecap=\"round\" style=\"stroke:white;stroke-width:4\"/><line x1=\"400.0\" y1=\"182.0\" x2=\"400.0\" y2=\"181.0\" stroke-linecap=\"round\" style=\"stroke:white;stroke-width:4\"/><line x1=\"400.0\" y1=\"181.0\" x2=\"400.0\" y2=\"180.0\" stroke-linecap=\"round\" style=\"stroke:white;stroke-width:4\"/><line x1=\"400.0\" y1=\"180.0\" x2=\"400.0\" y2=\"179.0\" stroke-linecap=\"round\" style=\"stroke:white;stroke-width:4\"/><line x1=\"400.0\" y1=\"179.0\" x2=\"400.0\" y2=\"178.0\" stroke-linecap=\"round\" style=\"stroke:white;stroke-width:4\"/><line x1=\"400.0\" y1=\"178.0\" x2=\"400.0\" y2=\"177.0\" stroke-linecap=\"round\" style=\"stroke:white;stroke-width:4\"/><line x1=\"400.0\" y1=\"177.0\" x2=\"400.0\" y2=\"176.0\" stroke-linecap=\"round\" style=\"stroke:white;stroke-width:4\"/><line x1=\"400.0\" y1=\"176.0\" x2=\"400.0\" y2=\"175.0\" stroke-linecap=\"round\" style=\"stroke:white;stroke-width:4\"/><line x1=\"400.0\" y1=\"175.0\" x2=\"400.0\" y2=\"174.0\" stroke-linecap=\"round\" style=\"stroke:white;stroke-width:4\"/><line x1=\"400.0\" y1=\"174.0\" x2=\"400.0\" y2=\"173.0\" stroke-linecap=\"round\" style=\"stroke:white;stroke-width:4\"/><line x1=\"400.0\" y1=\"173.0\" x2=\"400.0\" y2=\"172.0\" stroke-linecap=\"round\" style=\"stroke:white;stroke-width:4\"/><line x1=\"400.0\" y1=\"172.0\" x2=\"400.0\" y2=\"171.0\" stroke-linecap=\"round\" style=\"stroke:white;stroke-width:4\"/><line x1=\"400.0\" y1=\"171.0\" x2=\"400.0\" y2=\"170.0\" stroke-linecap=\"round\" style=\"stroke:white;stroke-width:4\"/><line x1=\"400.0\" y1=\"170.0\" x2=\"400.0\" y2=\"169.0\" stroke-linecap=\"round\" style=\"stroke:white;stroke-width:4\"/><line x1=\"400.0\" y1=\"169.0\" x2=\"400.0\" y2=\"168.0\" stroke-linecap=\"round\" style=\"stroke:white;stroke-width:4\"/><line x1=\"400.0\" y1=\"168.0\" x2=\"400.0\" y2=\"167.0\" stroke-linecap=\"round\" style=\"stroke:white;stroke-width:4\"/><line x1=\"400.0\" y1=\"167.0\" x2=\"400.0\" y2=\"166.0\" stroke-linecap=\"round\" style=\"stroke:white;stroke-width:4\"/><line x1=\"400.0\" y1=\"166.0\" x2=\"400.0\" y2=\"165.0\" stroke-linecap=\"round\" style=\"stroke:white;stroke-width:4\"/><line x1=\"400.0\" y1=\"165.0\" x2=\"400.0\" y2=\"164.0\" stroke-linecap=\"round\" style=\"stroke:white;stroke-width:4\"/><line x1=\"400.0\" y1=\"164.0\" x2=\"400.0\" y2=\"163.0\" stroke-linecap=\"round\" style=\"stroke:white;stroke-width:4\"/><line x1=\"400.0\" y1=\"163.0\" x2=\"400.0\" y2=\"162.0\" stroke-linecap=\"round\" style=\"stroke:white;stroke-width:4\"/><line x1=\"400.0\" y1=\"162.0\" x2=\"400.0\" y2=\"161.0\" stroke-linecap=\"round\" style=\"stroke:white;stroke-width:4\"/><line x1=\"400.0\" y1=\"161.0\" x2=\"400.0\" y2=\"160.0\" stroke-linecap=\"round\" style=\"stroke:white;stroke-width:4\"/><line x1=\"400.0\" y1=\"160.0\" x2=\"400.0\" y2=\"159.0\" stroke-linecap=\"round\" style=\"stroke:white;stroke-width:4\"/><line x1=\"400.0\" y1=\"159.0\" x2=\"400.0\" y2=\"158.0\" stroke-linecap=\"round\" style=\"stroke:white;stroke-width:4\"/><line x1=\"400.0\" y1=\"158.0\" x2=\"400.0\" y2=\"157.0\" stroke-linecap=\"round\" style=\"stroke:white;stroke-width:4\"/><line x1=\"400.0\" y1=\"157.0\" x2=\"400.0\" y2=\"156.0\" stroke-linecap=\"round\" style=\"stroke:white;stroke-width:4\"/><line x1=\"400.0\" y1=\"156.0\" x2=\"400.0\" y2=\"155.0\" stroke-linecap=\"round\" style=\"stroke:white;stroke-width:4\"/><line x1=\"400.0\" y1=\"155.0\" x2=\"400.0\" y2=\"154.0\" stroke-linecap=\"round\" style=\"stroke:white;stroke-width:4\"/><line x1=\"400.0\" y1=\"154.0\" x2=\"400.0\" y2=\"153.0\" stroke-linecap=\"round\" style=\"stroke:white;stroke-width:4\"/><line x1=\"400.0\" y1=\"153.0\" x2=\"400.0\" y2=\"152.0\" stroke-linecap=\"round\" style=\"stroke:white;stroke-width:4\"/><line x1=\"400.0\" y1=\"152.0\" x2=\"400.0\" y2=\"151.0\" stroke-linecap=\"round\" style=\"stroke:white;stroke-width:4\"/><line x1=\"400.0\" y1=\"151.0\" x2=\"400.0\" y2=\"150.0\" stroke-linecap=\"round\" style=\"stroke:white;stroke-width:4\"/>\n",
              "        <g visibility=visible transform=\"rotate(360,400.0,150.0) translate(382.0, 132.0)\">\n",
              "<path style=\" stroke:none;fill-rule:evenodd;fill:white;fill-opacity:1;\" d=\"M 18.214844 0.632812 C 16.109375 1.800781 15.011719 4.074219 15.074219 7.132812 L 15.085938 7.652344 L 14.785156 7.496094 C 13.476562 6.824219 11.957031 6.671875 10.40625 7.066406 C 8.46875 7.550781 6.515625 9.15625 4.394531 11.992188 C 3.0625 13.777344 2.679688 14.636719 3.042969 15.027344 L 3.15625 15.152344 L 3.519531 15.152344 C 4.238281 15.152344 4.828125 14.886719 8.1875 13.039062 C 9.386719 12.378906 10.371094 11.839844 10.378906 11.839844 C 10.386719 11.839844 10.355469 11.929688 10.304688 12.035156 C 9.832031 13.09375 9.257812 14.820312 8.96875 16.078125 C 7.914062 20.652344 8.617188 24.53125 11.070312 27.660156 C 11.351562 28.015625 11.363281 27.914062 10.972656 28.382812 C 8.925781 30.84375 7.945312 33.28125 8.238281 35.1875 C 8.289062 35.527344 8.28125 35.523438 8.917969 35.523438 C 10.941406 35.523438 13.074219 34.207031 15.136719 31.6875 C 15.359375 31.417969 15.328125 31.425781 15.5625 31.574219 C 16.292969 32.042969 18.023438 32.964844 18.175781 32.964844 C 18.335938 32.964844 19.941406 32.210938 20.828125 31.71875 C 20.996094 31.625 21.136719 31.554688 21.136719 31.558594 C 21.203125 31.664062 21.898438 32.414062 22.222656 32.730469 C 23.835938 34.300781 25.5625 35.132812 27.582031 35.300781 C 27.90625 35.328125 27.9375 35.308594 28.007812 34.984375 C 28.382812 33.242188 27.625 30.925781 25.863281 28.425781 L 25.542969 27.96875 L 25.699219 27.785156 C 28.945312 23.960938 29.132812 18.699219 26.257812 11.96875 L 26.207031 11.84375 L 27.945312 12.703125 C 31.53125 14.476562 32.316406 14.800781 33.03125 14.800781 C 33.976562 14.800781 33.78125 13.9375 32.472656 12.292969 C 28.519531 7.355469 25.394531 5.925781 21.921875 7.472656 L 21.558594 7.636719 L 21.578125 7.542969 C 21.699219 6.992188 21.761719 5.742188 21.699219 5.164062 C 21.496094 3.296875 20.664062 1.964844 19.003906 0.855469 C 18.480469 0.503906 18.457031 0.5 18.214844 0.632812\"/>\n",
              "</g>\n",
              "      </svg>\n",
              "    "
            ]
          },
          "metadata": {}
        }
      ],
      "source": [
        "def walk_forward(n):\n",
        "    if n == 0:\n",
        "        return\n",
        "\n",
        "    forward(1)\n",
        "    walk_forward(n - 1)\n",
        "\n",
        "initializeTurtle()\n",
        "walk_forward(100)"
      ]
    },
    {
      "cell_type": "markdown",
      "source": [
        "In the text block below, **explain why the turtle is moving so slowly**:"
      ],
      "metadata": {
        "id": "zVAm-TYwWZHE"
      }
    },
    {
      "cell_type": "markdown",
      "source": [],
      "metadata": {
        "id": "UhvqOg8_WgZU"
      }
    },
    {
      "cell_type": "markdown",
      "metadata": {
        "id": "Hkgc6XVvFKhb"
      },
      "source": [
        "## Recursion with Turtle (Returtlin'?)\n",
        "Shapes that are made of smaller versions of themselves are called *fractals*. They are mathematically interesting, and mother nature agrees! Fractals can be found in many natural objects such as snowflakes, pineapples, and Romanesco broccoli. In the following cell, we have Turtle recursively draw a branch. *You need only run this cell as an example; you do not have to code anything.*"
      ]
    },
    {
      "cell_type": "code",
      "execution_count": 5,
      "metadata": {
        "id": "7qRE5QMvFbct",
        "colab": {
          "base_uri": "https://localhost:8080/",
          "height": 521
        },
        "outputId": "1775924c-048e-46af-9767-967d77999ca8"
      },
      "outputs": [
        {
          "output_type": "display_data",
          "data": {
            "text/plain": [
              "<IPython.core.display.HTML object>"
            ],
            "text/html": [
              "\n",
              "      <svg width=\"800\" height=\"500\">\n",
              "        <rect width=\"100%\" height=\"100%\" fill=\"black\"/>\n",
              "        <line x1=\"400\" y1=\"250\" x2=\"400.0\" y2=\"154.0\" stroke-linecap=\"round\" style=\"stroke:white;stroke-width:4\"/><line x1=\"400.0\" y1=\"154.0\" x2=\"350.973\" y2=\"112.862\" stroke-linecap=\"round\" style=\"stroke:white;stroke-width:4\"/><line x1=\"350.973\" y1=\"112.862\" x2=\"319.459\" y2=\"118.419\" stroke-linecap=\"round\" style=\"stroke:white;stroke-width:4\"/><line x1=\"319.459\" y1=\"118.419\" x2=\"350.973\" y2=\"112.862\" stroke-linecap=\"round\" style=\"stroke:white;stroke-width:4\"/><line x1=\"350.973\" y1=\"112.862\" x2=\"350.973\" y2=\"80.862\" stroke-linecap=\"round\" style=\"stroke:white;stroke-width:4\"/><line x1=\"350.973\" y1=\"80.862\" x2=\"350.973\" y2=\"112.862\" stroke-linecap=\"round\" style=\"stroke:white;stroke-width:4\"/><line x1=\"350.973\" y1=\"112.862\" x2=\"400.0\" y2=\"154.0\" stroke-linecap=\"round\" style=\"stroke:white;stroke-width:4\"/><line x1=\"400.0\" y1=\"154.0\" x2=\"449.027\" y2=\"112.862\" stroke-linecap=\"round\" style=\"stroke:white;stroke-width:4\"/><line x1=\"449.027\" y1=\"112.862\" x2=\"449.027\" y2=\"80.862\" stroke-linecap=\"round\" style=\"stroke:white;stroke-width:4\"/><line x1=\"449.027\" y1=\"80.862\" x2=\"449.027\" y2=\"112.862\" stroke-linecap=\"round\" style=\"stroke:white;stroke-width:4\"/><line x1=\"449.027\" y1=\"112.862\" x2=\"480.541\" y2=\"118.419\" stroke-linecap=\"round\" style=\"stroke:white;stroke-width:4\"/><line x1=\"480.541\" y1=\"118.419\" x2=\"449.027\" y2=\"112.862\" stroke-linecap=\"round\" style=\"stroke:white;stroke-width:4\"/><line x1=\"449.027\" y1=\"112.862\" x2=\"400.0\" y2=\"154.0\" stroke-linecap=\"round\" style=\"stroke:white;stroke-width:4\"/><line x1=\"400.0\" y1=\"154.0\" x2=\"400.0\" y2=\"250.0\" stroke-linecap=\"round\" style=\"stroke:white;stroke-width:4\"/>\n",
              "        <g visibility=visible transform=\"rotate(360,400.0,250.0) translate(382.0, 232.0)\">\n",
              "<path style=\" stroke:none;fill-rule:evenodd;fill:white;fill-opacity:1;\" d=\"M 18.214844 0.632812 C 16.109375 1.800781 15.011719 4.074219 15.074219 7.132812 L 15.085938 7.652344 L 14.785156 7.496094 C 13.476562 6.824219 11.957031 6.671875 10.40625 7.066406 C 8.46875 7.550781 6.515625 9.15625 4.394531 11.992188 C 3.0625 13.777344 2.679688 14.636719 3.042969 15.027344 L 3.15625 15.152344 L 3.519531 15.152344 C 4.238281 15.152344 4.828125 14.886719 8.1875 13.039062 C 9.386719 12.378906 10.371094 11.839844 10.378906 11.839844 C 10.386719 11.839844 10.355469 11.929688 10.304688 12.035156 C 9.832031 13.09375 9.257812 14.820312 8.96875 16.078125 C 7.914062 20.652344 8.617188 24.53125 11.070312 27.660156 C 11.351562 28.015625 11.363281 27.914062 10.972656 28.382812 C 8.925781 30.84375 7.945312 33.28125 8.238281 35.1875 C 8.289062 35.527344 8.28125 35.523438 8.917969 35.523438 C 10.941406 35.523438 13.074219 34.207031 15.136719 31.6875 C 15.359375 31.417969 15.328125 31.425781 15.5625 31.574219 C 16.292969 32.042969 18.023438 32.964844 18.175781 32.964844 C 18.335938 32.964844 19.941406 32.210938 20.828125 31.71875 C 20.996094 31.625 21.136719 31.554688 21.136719 31.558594 C 21.203125 31.664062 21.898438 32.414062 22.222656 32.730469 C 23.835938 34.300781 25.5625 35.132812 27.582031 35.300781 C 27.90625 35.328125 27.9375 35.308594 28.007812 34.984375 C 28.382812 33.242188 27.625 30.925781 25.863281 28.425781 L 25.542969 27.96875 L 25.699219 27.785156 C 28.945312 23.960938 29.132812 18.699219 26.257812 11.96875 L 26.207031 11.84375 L 27.945312 12.703125 C 31.53125 14.476562 32.316406 14.800781 33.03125 14.800781 C 33.976562 14.800781 33.78125 13.9375 32.472656 12.292969 C 28.519531 7.355469 25.394531 5.925781 21.921875 7.472656 L 21.558594 7.636719 L 21.578125 7.542969 C 21.699219 6.992188 21.761719 5.742188 21.699219 5.164062 C 21.496094 3.296875 20.664062 1.964844 19.003906 0.855469 C 18.480469 0.503906 18.457031 0.5 18.214844 0.632812\"/>\n",
              "</g>\n",
              "      </svg>\n",
              "    "
            ]
          },
          "metadata": {}
        }
      ],
      "source": [
        "# TODO: Try to draw the branch by hand BEFORE running the code!\n",
        "# Hint: Start with n = 1, then use your answer to draw n = 2, and finally n = 3.\n",
        "def draw_branch(n, branch_length=32):\n",
        "    if n == 0:\n",
        "        return\n",
        "\n",
        "    forward(branch_length * n)\n",
        "    left(50)\n",
        "    draw_branch(n - 1, branch_length)\n",
        "    right(100)\n",
        "    draw_branch(n - 1, branch_length)\n",
        "    left(50)\n",
        "    back(branch_length * n)\n",
        "\n",
        "initializeTurtle()\n",
        "draw_branch(3)\n"
      ]
    },
    {
      "cell_type": "markdown",
      "metadata": {
        "id": "zph8SLSIJaow"
      },
      "source": [
        "## More Turtle Fractals\n",
        "\n",
        "Now it's your turn. In the following cell, you will be guided through **writing a recursive function to draw a Koch fractal**.\n",
        "\n",
        "**TODO:** Please follow the comments to complete the function `koch_fractal`."
      ]
    },
    {
      "cell_type": "code",
      "execution_count": 6,
      "metadata": {
        "id": "E3bs-RGgJ_IV",
        "colab": {
          "base_uri": "https://localhost:8080/",
          "height": 521
        },
        "outputId": "774432eb-3632-4664-b964-8f64004bd2d0"
      },
      "outputs": [
        {
          "output_type": "display_data",
          "data": {
            "text/plain": [
              "<IPython.core.display.HTML object>"
            ],
            "text/html": [
              "\n",
              "      <svg width=\"800\" height=\"500\">\n",
              "        <rect width=\"100%\" height=\"100%\" fill=\"black\"/>\n",
              "        <line x1=\"0\" y1=\"200\" x2=\"10.0\" y2=\"200.0\" stroke-linecap=\"round\" style=\"stroke:white;stroke-width:4\"/><line x1=\"10.0\" y1=\"200.0\" x2=\"15.0\" y2=\"191.34\" stroke-linecap=\"round\" style=\"stroke:white;stroke-width:4\"/><line x1=\"15.0\" y1=\"191.34\" x2=\"20.0\" y2=\"200.0\" stroke-linecap=\"round\" style=\"stroke:white;stroke-width:4\"/><line x1=\"20.0\" y1=\"200.0\" x2=\"30.0\" y2=\"200.0\" stroke-linecap=\"round\" style=\"stroke:white;stroke-width:4\"/><line x1=\"30.0\" y1=\"200.0\" x2=\"35.0\" y2=\"191.34\" stroke-linecap=\"round\" style=\"stroke:white;stroke-width:4\"/><line x1=\"35.0\" y1=\"191.34\" x2=\"30.0\" y2=\"182.68\" stroke-linecap=\"round\" style=\"stroke:white;stroke-width:4\"/><line x1=\"30.0\" y1=\"182.68\" x2=\"40.0\" y2=\"182.68\" stroke-linecap=\"round\" style=\"stroke:white;stroke-width:4\"/><line x1=\"40.0\" y1=\"182.68\" x2=\"45.0\" y2=\"174.02\" stroke-linecap=\"round\" style=\"stroke:white;stroke-width:4\"/><line x1=\"45.0\" y1=\"174.02\" x2=\"50.0\" y2=\"182.68\" stroke-linecap=\"round\" style=\"stroke:white;stroke-width:4\"/><line x1=\"50.0\" y1=\"182.68\" x2=\"60.0\" y2=\"182.68\" stroke-linecap=\"round\" style=\"stroke:white;stroke-width:4\"/><line x1=\"60.0\" y1=\"182.68\" x2=\"55.0\" y2=\"191.34\" stroke-linecap=\"round\" style=\"stroke:white;stroke-width:4\"/><line x1=\"55.0\" y1=\"191.34\" x2=\"60.0\" y2=\"200.0\" stroke-linecap=\"round\" style=\"stroke:white;stroke-width:4\"/><line x1=\"60.0\" y1=\"200.0\" x2=\"70.0\" y2=\"200.0\" stroke-linecap=\"round\" style=\"stroke:white;stroke-width:4\"/><line x1=\"70.0\" y1=\"200.0\" x2=\"75.0\" y2=\"191.34\" stroke-linecap=\"round\" style=\"stroke:white;stroke-width:4\"/><line x1=\"75.0\" y1=\"191.34\" x2=\"80.0\" y2=\"200.0\" stroke-linecap=\"round\" style=\"stroke:white;stroke-width:4\"/><line x1=\"80.0\" y1=\"200.0\" x2=\"90.0\" y2=\"200.0\" stroke-linecap=\"round\" style=\"stroke:white;stroke-width:4\"/><line x1=\"90.0\" y1=\"200.0\" x2=\"95.0\" y2=\"191.34\" stroke-linecap=\"round\" style=\"stroke:white;stroke-width:4\"/><line x1=\"95.0\" y1=\"191.34\" x2=\"90.0\" y2=\"182.68\" stroke-linecap=\"round\" style=\"stroke:white;stroke-width:4\"/><line x1=\"90.0\" y1=\"182.68\" x2=\"100.0\" y2=\"182.68\" stroke-linecap=\"round\" style=\"stroke:white;stroke-width:4\"/><line x1=\"100.0\" y1=\"182.68\" x2=\"105.0\" y2=\"174.02\" stroke-linecap=\"round\" style=\"stroke:white;stroke-width:4\"/><line x1=\"105.0\" y1=\"174.02\" x2=\"100.0\" y2=\"165.36\" stroke-linecap=\"round\" style=\"stroke:white;stroke-width:4\"/><line x1=\"100.0\" y1=\"165.36\" x2=\"90.0\" y2=\"165.36\" stroke-linecap=\"round\" style=\"stroke:white;stroke-width:4\"/><line x1=\"90.0\" y1=\"165.36\" x2=\"95.0\" y2=\"156.7\" stroke-linecap=\"round\" style=\"stroke:white;stroke-width:4\"/><line x1=\"95.0\" y1=\"156.7\" x2=\"90.0\" y2=\"148.04\" stroke-linecap=\"round\" style=\"stroke:white;stroke-width:4\"/><line x1=\"90.0\" y1=\"148.04\" x2=\"100.0\" y2=\"148.04\" stroke-linecap=\"round\" style=\"stroke:white;stroke-width:4\"/><line x1=\"100.0\" y1=\"148.04\" x2=\"105.0\" y2=\"139.38\" stroke-linecap=\"round\" style=\"stroke:white;stroke-width:4\"/><line x1=\"105.0\" y1=\"139.38\" x2=\"110.0\" y2=\"148.04\" stroke-linecap=\"round\" style=\"stroke:white;stroke-width:4\"/><line x1=\"110.0\" y1=\"148.04\" x2=\"120.0\" y2=\"148.04\" stroke-linecap=\"round\" style=\"stroke:white;stroke-width:4\"/><line x1=\"120.0\" y1=\"148.04\" x2=\"125.0\" y2=\"139.38\" stroke-linecap=\"round\" style=\"stroke:white;stroke-width:4\"/><line x1=\"125.0\" y1=\"139.38\" x2=\"120.0\" y2=\"130.72\" stroke-linecap=\"round\" style=\"stroke:white;stroke-width:4\"/><line x1=\"120.0\" y1=\"130.72\" x2=\"130.0\" y2=\"130.72\" stroke-linecap=\"round\" style=\"stroke:white;stroke-width:4\"/><line x1=\"130.0\" y1=\"130.72\" x2=\"135.0\" y2=\"122.06\" stroke-linecap=\"round\" style=\"stroke:white;stroke-width:4\"/><line x1=\"135.0\" y1=\"122.06\" x2=\"140.0\" y2=\"130.72\" stroke-linecap=\"round\" style=\"stroke:white;stroke-width:4\"/><line x1=\"140.0\" y1=\"130.72\" x2=\"150.0\" y2=\"130.72\" stroke-linecap=\"round\" style=\"stroke:white;stroke-width:4\"/><line x1=\"150.0\" y1=\"130.72\" x2=\"145.0\" y2=\"139.38\" stroke-linecap=\"round\" style=\"stroke:white;stroke-width:4\"/><line x1=\"145.0\" y1=\"139.38\" x2=\"150.0\" y2=\"148.04\" stroke-linecap=\"round\" style=\"stroke:white;stroke-width:4\"/><line x1=\"150.0\" y1=\"148.04\" x2=\"160.0\" y2=\"148.04\" stroke-linecap=\"round\" style=\"stroke:white;stroke-width:4\"/><line x1=\"160.0\" y1=\"148.04\" x2=\"165.0\" y2=\"139.38\" stroke-linecap=\"round\" style=\"stroke:white;stroke-width:4\"/><line x1=\"165.0\" y1=\"139.38\" x2=\"170.0\" y2=\"148.04\" stroke-linecap=\"round\" style=\"stroke:white;stroke-width:4\"/><line x1=\"170.0\" y1=\"148.04\" x2=\"180.0\" y2=\"148.04\" stroke-linecap=\"round\" style=\"stroke:white;stroke-width:4\"/><line x1=\"180.0\" y1=\"148.04\" x2=\"175.0\" y2=\"156.7\" stroke-linecap=\"round\" style=\"stroke:white;stroke-width:4\"/><line x1=\"175.0\" y1=\"156.7\" x2=\"180.0\" y2=\"165.36\" stroke-linecap=\"round\" style=\"stroke:white;stroke-width:4\"/><line x1=\"180.0\" y1=\"165.36\" x2=\"170.0\" y2=\"165.36\" stroke-linecap=\"round\" style=\"stroke:white;stroke-width:4\"/><line x1=\"170.0\" y1=\"165.36\" x2=\"165.0\" y2=\"174.02\" stroke-linecap=\"round\" style=\"stroke:white;stroke-width:4\"/><line x1=\"165.0\" y1=\"174.02\" x2=\"170.0\" y2=\"182.68\" stroke-linecap=\"round\" style=\"stroke:white;stroke-width:4\"/><line x1=\"170.0\" y1=\"182.68\" x2=\"180.0\" y2=\"182.68\" stroke-linecap=\"round\" style=\"stroke:white;stroke-width:4\"/><line x1=\"180.0\" y1=\"182.68\" x2=\"175.0\" y2=\"191.34\" stroke-linecap=\"round\" style=\"stroke:white;stroke-width:4\"/><line x1=\"175.0\" y1=\"191.34\" x2=\"180.0\" y2=\"200.0\" stroke-linecap=\"round\" style=\"stroke:white;stroke-width:4\"/><line x1=\"180.0\" y1=\"200.0\" x2=\"190.0\" y2=\"200.0\" stroke-linecap=\"round\" style=\"stroke:white;stroke-width:4\"/><line x1=\"190.0\" y1=\"200.0\" x2=\"195.0\" y2=\"191.34\" stroke-linecap=\"round\" style=\"stroke:white;stroke-width:4\"/><line x1=\"195.0\" y1=\"191.34\" x2=\"200.0\" y2=\"200.0\" stroke-linecap=\"round\" style=\"stroke:white;stroke-width:4\"/><line x1=\"200.0\" y1=\"200.0\" x2=\"210.0\" y2=\"200.0\" stroke-linecap=\"round\" style=\"stroke:white;stroke-width:4\"/><line x1=\"210.0\" y1=\"200.0\" x2=\"215.0\" y2=\"191.34\" stroke-linecap=\"round\" style=\"stroke:white;stroke-width:4\"/><line x1=\"215.0\" y1=\"191.34\" x2=\"210.0\" y2=\"182.68\" stroke-linecap=\"round\" style=\"stroke:white;stroke-width:4\"/><line x1=\"210.0\" y1=\"182.68\" x2=\"220.0\" y2=\"182.68\" stroke-linecap=\"round\" style=\"stroke:white;stroke-width:4\"/><line x1=\"220.0\" y1=\"182.68\" x2=\"225.0\" y2=\"174.02\" stroke-linecap=\"round\" style=\"stroke:white;stroke-width:4\"/><line x1=\"225.0\" y1=\"174.02\" x2=\"230.0\" y2=\"182.68\" stroke-linecap=\"round\" style=\"stroke:white;stroke-width:4\"/><line x1=\"230.0\" y1=\"182.68\" x2=\"240.0\" y2=\"182.68\" stroke-linecap=\"round\" style=\"stroke:white;stroke-width:4\"/><line x1=\"240.0\" y1=\"182.68\" x2=\"235.0\" y2=\"191.34\" stroke-linecap=\"round\" style=\"stroke:white;stroke-width:4\"/><line x1=\"235.0\" y1=\"191.34\" x2=\"240.0\" y2=\"200.0\" stroke-linecap=\"round\" style=\"stroke:white;stroke-width:4\"/><line x1=\"240.0\" y1=\"200.0\" x2=\"250.0\" y2=\"200.0\" stroke-linecap=\"round\" style=\"stroke:white;stroke-width:4\"/><line x1=\"250.0\" y1=\"200.0\" x2=\"255.0\" y2=\"191.34\" stroke-linecap=\"round\" style=\"stroke:white;stroke-width:4\"/><line x1=\"255.0\" y1=\"191.34\" x2=\"260.0\" y2=\"200.0\" stroke-linecap=\"round\" style=\"stroke:white;stroke-width:4\"/><line x1=\"260.0\" y1=\"200.0\" x2=\"270.0\" y2=\"200.0\" stroke-linecap=\"round\" style=\"stroke:white;stroke-width:4\"/>\n",
              "        <g visibility=visible transform=\"rotate(90,270.0,200.0) translate(252.0, 182.0)\">\n",
              "<path style=\" stroke:none;fill-rule:evenodd;fill:white;fill-opacity:1;\" d=\"M 18.214844 0.632812 C 16.109375 1.800781 15.011719 4.074219 15.074219 7.132812 L 15.085938 7.652344 L 14.785156 7.496094 C 13.476562 6.824219 11.957031 6.671875 10.40625 7.066406 C 8.46875 7.550781 6.515625 9.15625 4.394531 11.992188 C 3.0625 13.777344 2.679688 14.636719 3.042969 15.027344 L 3.15625 15.152344 L 3.519531 15.152344 C 4.238281 15.152344 4.828125 14.886719 8.1875 13.039062 C 9.386719 12.378906 10.371094 11.839844 10.378906 11.839844 C 10.386719 11.839844 10.355469 11.929688 10.304688 12.035156 C 9.832031 13.09375 9.257812 14.820312 8.96875 16.078125 C 7.914062 20.652344 8.617188 24.53125 11.070312 27.660156 C 11.351562 28.015625 11.363281 27.914062 10.972656 28.382812 C 8.925781 30.84375 7.945312 33.28125 8.238281 35.1875 C 8.289062 35.527344 8.28125 35.523438 8.917969 35.523438 C 10.941406 35.523438 13.074219 34.207031 15.136719 31.6875 C 15.359375 31.417969 15.328125 31.425781 15.5625 31.574219 C 16.292969 32.042969 18.023438 32.964844 18.175781 32.964844 C 18.335938 32.964844 19.941406 32.210938 20.828125 31.71875 C 20.996094 31.625 21.136719 31.554688 21.136719 31.558594 C 21.203125 31.664062 21.898438 32.414062 22.222656 32.730469 C 23.835938 34.300781 25.5625 35.132812 27.582031 35.300781 C 27.90625 35.328125 27.9375 35.308594 28.007812 34.984375 C 28.382812 33.242188 27.625 30.925781 25.863281 28.425781 L 25.542969 27.96875 L 25.699219 27.785156 C 28.945312 23.960938 29.132812 18.699219 26.257812 11.96875 L 26.207031 11.84375 L 27.945312 12.703125 C 31.53125 14.476562 32.316406 14.800781 33.03125 14.800781 C 33.976562 14.800781 33.78125 13.9375 32.472656 12.292969 C 28.519531 7.355469 25.394531 5.925781 21.921875 7.472656 L 21.558594 7.636719 L 21.578125 7.542969 C 21.699219 6.992188 21.761719 5.742188 21.699219 5.164062 C 21.496094 3.296875 20.664062 1.964844 19.003906 0.855469 C 18.480469 0.503906 18.457031 0.5 18.214844 0.632812\"/>\n",
              "</g>\n",
              "      </svg>\n",
              "    "
            ]
          },
          "metadata": {}
        }
      ],
      "source": [
        "def koch_fractal(n, step):\n",
        "    # Base case: if no turns (n) remain,\n",
        "    # walk forward step amount\n",
        "    if n == 0:\n",
        "        forward(step)\n",
        "        return\n",
        "\n",
        "\n",
        "    # TODO: START Recursive case\n",
        "    # 1. Draw fractal with one fewer turns by decreasing n\n",
        "    # Keep the step size the same\n",
        "    koch_fractal(n-1, step)\n",
        "\n",
        "    # 2. Have Turtle go left 60 degrees\n",
        "    left(60)\n",
        "\n",
        "    # 3. Draw fractal with one fewer turns by decreasing n\n",
        "    # Keep the step size the same\n",
        "    koch_fractal(n-1, step)\n",
        "\n",
        "    # 4. Have Turtle go right 120 degrees\n",
        "    right(120)\n",
        "\n",
        "    # 5. Draw fractal with one fewer turns by decreasing n\n",
        "    # Keep the step size the same\n",
        "    koch_fractal(n-1, step)\n",
        "\n",
        "    # 6. Have Turtle go left 60 degrees\n",
        "    left(60)\n",
        "\n",
        "    # 7. Draw fractal with one fewer turns by decreasing n\n",
        "    # Keep the step size the same\n",
        "    koch_fractal(n-1, step)\n",
        "\n",
        "    # END recursive case\n",
        "\n",
        "# This brings Turtle to leftmost portion\n",
        "# of screen. You do not need to change this code.\n",
        "initializeTurtle()\n",
        "penup()\n",
        "goto(0, 200)\n",
        "pendown()\n",
        "right(90)\n",
        "\n",
        "# Here you can change calls to koch_fractal to draw curves\n",
        "# Remember the first argument n is how many turns you want\n",
        "# Turtle to make drawing curves, and the second argument step\n",
        "# is how far Turtle will walk forward.\n",
        "# This function is not efficient, so try with small values of n\n",
        "# Optional: Make a snowflake by combining 3 koch fractals into a triangle\n",
        "koch_fractal(3, 10)"
      ]
    },
    {
      "cell_type": "markdown",
      "metadata": {
        "id": "Rl7p-gZxUJDb"
      },
      "source": [
        "# Tracing Turtle Fractal\n",
        "Can you trace (i.e., draw the stack diagram for) `koch_fractal` when `n` is 2 ? **You can follow along drawing by hand with Turtle and labeling the function calls to create a stack diagram.**"
      ]
    },
    {
      "cell_type": "markdown",
      "metadata": {
        "id": "43_wSLJ4UgxG"
      },
      "source": [
        "***\n",
        "The main part is empty because it doesn't hold anything. As n is not 0, it starts by going through the base case of the if statement. Then, in our continuous situation, the function is called, which calls the function of n-1 with the same step and runs it again and again. After calling another iterative case that calls the function of n-1 with the same step, the code runs again in a loop. It's now time for the last iterative case, which ends with n == 0. We have come to a decision, and our initial assumption is now true.\n",
        "\n",
        "***"
      ]
    },
    {
      "cell_type": "markdown",
      "metadata": {
        "id": "WG9zMdCjI_fS"
      },
      "source": [
        "### (Optional) Reflections\n",
        "Add a text cell below to answer the following questions:\n",
        "1. What do you feel more confident about after completing this lab?\n",
        "2. What do you feel you can use more help with after completing this lab?\n",
        "3. Do you have any constructive suggestions on how we can help you or improve this lab?"
      ]
    },
    {
      "cell_type": "markdown",
      "metadata": {
        "id": "0KQcA7o9JK7f"
      },
      "source": [
        "### Save your work to GitHub\n",
        "Please save this notebook to your lab repository.\n"
      ]
    }
  ],
  "metadata": {
    "kernelspec": {
      "display_name": "Python 3",
      "language": "python",
      "name": "python3"
    },
    "language_info": {
      "codemirror_mode": {
        "name": "ipython",
        "version": 3
      },
      "file_extension": ".py",
      "mimetype": "text/x-python",
      "name": "python",
      "nbconvert_exporter": "python",
      "pygments_lexer": "ipython3",
      "version": "3.8.5"
    },
    "colab": {
      "provenance": [],
      "include_colab_link": true
    }
  },
  "nbformat": 4,
  "nbformat_minor": 0
}